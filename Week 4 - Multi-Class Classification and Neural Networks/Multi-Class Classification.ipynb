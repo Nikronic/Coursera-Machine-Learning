{
 "cells": [
  {
   "cell_type": "markdown",
   "metadata": {},
   "source": [
    "# Multi-class Classification\n",
    "For this exercise, you will use logistic regression and neural networks to recognize handwritten digits (from 0 to 9).<br> Automated handwritten digit recognition is widely used today - from recognizing zip codes (postal codes) on mail envelopes to recognizing amounts written on bank checks. This exercise will show you how the methods you’ve learned can be used for this classification task.<br>\n",
    "In the first part of the exercise, you will extend your previous implemention of <strong>logistic regression</strong> and apply it to <strong>one-vs-all classification</strong>.<br><br>\n",
    "\n",
    "The file <strong><em>ex3data1</em></strong> contains a training set.<br>\n",
    "The structure of the dataset described blow:<br>\n",
    "1. X array = <strong>400 columns describe the values of pixels of 20*20 images in flatten format for 5000 samples</strong>\n",
    "2. y array = <strong>Value of image (number between 0-9)</strong>\n",
    "\n",
    "\n",
    "<br><br>\n",
    "<strong>\n",
    "Our assignment has these sections:\n",
    "1. Visualizing the Data\n",
    "    1. Converting .mat to .csv\n",
    "    2. Loading Dataset\n",
    "    3. Ploting Data\n",
    "2. Vectorizing Logistic Regression\n",
    "    1. Vectorizing the cost function\n",
    "    2. Vectorizing the gradient\n",
    "    3. Vectorizing regularized logistic regression\n",
    "3. One-vs-all Classification\n",
    "    1. Learning Parameters Using scipy.optimize.fmin_cg\n",
    "    2. One-vs-all Prediction\n",
    "</strong>\n",
    "\n",
    "In each section full description provided."
   ]
  },
  {
   "cell_type": "markdown",
   "metadata": {},
   "source": [
    "## 1. Visualizing the Dataset\n",
    "Before starting on any task, it is often useful to understand the data by visualizing it.<br>"
   ]
  },
  {
   "cell_type": "markdown",
   "metadata": {},
   "source": [
    "### 1.A Converting .mat to .csv\n",
    "In this specific assignment, the instructor added a .mat file as training set. But we have to convert it to .csv to use in python.<br>\n",
    "After all we now ready to import our new csv files to pandas dataframes and do preprocessing on it and make it ready for next steps."
   ]
  },
  {
   "cell_type": "code",
   "execution_count": 1,
   "metadata": {},
   "outputs": [],
   "source": [
    "# import libraries\n",
    "import scipy.io\n",
    "import numpy as np\n",
    "\n",
    "data = scipy.io.loadmat(\"ex3data1\")"
   ]
  },
  {
   "cell_type": "markdown",
   "metadata": {},
   "source": [
    "Now we extract X and y variables from the .mat file and save them into .csv file for further usage. After running the below code <strong>you should see X.csv and y.csv files</strong> in your directory."
   ]
  },
  {
   "cell_type": "code",
   "execution_count": 2,
   "metadata": {},
   "outputs": [],
   "source": [
    "for i in data:\n",
    "    if '__' not in i and 'readme' not in i:\n",
    "        np.savetxt((i+\".csv\"),data[i],delimiter=',')"
   ]
  },
  {
   "cell_type": "markdown",
   "metadata": {},
   "source": [
    "### 1.B Loading Dataset\n",
    "First we import .csv files into pandas dataframes then save them into numpy arrays.<br><br>\n",
    "There are <strong>5000 training examples</strong> in ex3data1.mat, where each training example is a <strong>20 pixel by 20 pixel <em>grayscale</em> image of the digit</strong>. Each pixel is represented by a floating point number indicating the <strong>grayscale intensity</strong> at that location. The 20 by 20 grid of pixels is <strong>\"flatten\" into a 400-dimensional vector</strong>. <strong>Each of these training examples becomes a single row in our data matrix X</strong>. This gives us a 5000 by 400 matrix X where every row is a training example for a handwritten digit image.<br>\n",
    "The structure of X is look like this: <img src='img/x.jpg'><br>\n",
    "The second part of the training set is a <strong>5000-dimensional vector y that contains labels</strong> for the training set.<br><br>\n",
    "<strong>Notice: In dataset, the digit zero mapped to the value ten. Therefore, a \"0\" digit is labeled as \"10\", while the digits \"1\" to \"9\" are labeled as \"1\" to \"9\" in their natural order."
   ]
  },
  {
   "cell_type": "code",
   "execution_count": 3,
   "metadata": {},
   "outputs": [],
   "source": [
    "# import library\n",
    "import pandas as pd\n",
    "\n",
    "# saving .csv files to pandas dataframes\n",
    "x_df = pd.read_csv('X.csv',names= np.arange(0,400))\n",
    "y_df = pd.read_csv('y.csv',names=['label'])"
   ]
  },
  {
   "cell_type": "code",
   "execution_count": 4,
   "metadata": {},
   "outputs": [
    {
     "name": "stdout",
     "output_type": "stream",
     "text": [
      "#5000 Number of training samples, #400 features per sample\n"
     ]
    }
   ],
   "source": [
    "# saving x_df and y_df into numpy arrays\n",
    "x = x_df.iloc[:,:].values\n",
    "y = y_df.iloc[:,:].values\n",
    "m, n = x.shape\n",
    "print('#{} Number of training samples, #{} features per sample'.format(m,n))"
   ]
  },
  {
   "cell_type": "markdown",
   "metadata": {},
   "source": [
    "### 1.C Plotting Data\n",
    "You will begin by visualizing a subset of the training set. In first part, the code <strong>randomly selects selects 100 rows from X</strong> and passes those rows to the <strong>display_data</strong> function. This function maps each row to a 20 pixel by 20 pixel grayscale image and displays the images together.<br>\n",
    "After plotting, you should see an image like this:<img src='img/plot.jpg'>"
   ]
  },
  {
   "cell_type": "code",
   "execution_count": 5,
   "metadata": {},
   "outputs": [
    {
     "data": {
      "text/plain": [
       "<Figure size 800x800 with 100 Axes>"
      ]
     },
     "metadata": {},
     "output_type": "display_data"
    },
    {
     "name": "stdout",
     "output_type": "stream",
     "text": [
      "[  7.   9.   8.  10.   1.   8.   3.   2.   4.  10.   8.   5.  10.   9.   1.\n",
      "   7.   5.   2.  10.   6.   9.   1.  10.   1.   6.   3.   9.   5.   7.   6.\n",
      "   1.   3.   1.   5.   2.   8.   6.   5.   8.   7.   8.   1.   4.   2.   7.\n",
      "   4.   7.   7.   6.   4.   2.   5.   6.   2.   1.   4.   1.  10.   4.   7.\n",
      "  10.   1.   3.   8.   1.   3.   7.   4.   4.   8.   8.   8.   2.   3.   8.\n",
      "   2.   1.   5.   6.   3.   2.   8.   4.   5.   9.   9.   4.  10.   5.   5.\n",
      "   1.  10.   8.   1.   2.   4.   6.   1.   5.  10.]\n"
     ]
    }
   ],
   "source": [
    "import numpy as np\n",
    "import matplotlib.pyplot as plt\n",
    "import random\n",
    "\n",
    "amount = 100\n",
    "lines = 10\n",
    "columns = 10\n",
    "image = np.zeros((amount, 20, 20))\n",
    "number = np.zeros(amount)\n",
    "\n",
    "for i in range(amount):\n",
    "    rnd = random.randint(0,4999)\n",
    "    image[i] = x[rnd].reshape(20, 20)\n",
    "    y_temp = y.reshape(m,)\n",
    "    number[i] = y_temp[rnd]\n",
    "fig = plt.figure(figsize=(8,8))\n",
    "\n",
    "for i in range(amount):\n",
    "    ax = fig.add_subplot(lines, columns, 1 + i)\n",
    "    \n",
    "    # Turn off tick labels\n",
    "    ax.set_yticklabels([])\n",
    "    ax.set_xticklabels([])\n",
    "    plt.imshow(image[i], cmap='binary')\n",
    "plt.show()\n",
    "print(number) # recall 10 shows the value 0!"
   ]
  },
  {
   "cell_type": "markdown",
   "metadata": {},
   "source": [
    "## 2 Vectorizing Logistic Regression\n",
    "You will be using <strong>multiple one-vs-all logistic regression</strong> models to build a <strong>multi-class classifier</strong>. Since there are 10 classes, you will need to <strong>train 10 separate logistic regression classifiers</strong>. To make this training <strong>efficient</strong>, it is important to ensure that your code is <strong>well vectorized</strong>. In this section, you will implement a vectorized version of logistic regression that does not employ any <strong>for</strong> loops.<br>"
   ]
  },
  {
   "cell_type": "markdown",
   "metadata": {},
   "source": [
    "### 2.A Vectorizing the Cost Function\n",
    "We will begin by writing a vectorized version of the cost function. Recall that in logistic regression, the cost function is: <img src='img/j.jpg'>.<br>\n",
    "To compute each element in the summation, we have to compute <strong>h<sub>θ</sub>(x<sup>(i)</sup>)</strong> for every example <strong>i</strong>, where <strong>h<sub>θ</sub>(x(i)) = g(θ<sup>T</sup> x<sup>(i)</sup>)</strong> and <strong>g(z) = 1/(1+e<sup>−z</sup>)</strong> is the sigmoid function. It turns out that we can compute this quickly for all our examples by using matrix multiplication. Let us define <strong>X</strong> and <strong>θ</strong> as: <img src='img/xandtheta.jpg'><br>\n",
    "Then, by computing the matrix <strong>product Xθ</strong>, we have: <img src='img/xtheta.jpg'>.<br>\n",
    "In the last equality, we used the fact that <strong>a<sup>T</sup>b = b<sup>T</sup>a</strong> if <strong>a</strong> and <strong>b</strong> are vectors. This allows us to compute the products <strong>θ<sup>T</sup>x<sup>(i)</sup></strong> for all our examples i in one line of code.<br><br>\n",
    "A <strong>fully vectorized</strong> version of <strong>cost function</strong> should contains <strong>no loops.</strong><br><br>\n",
    "(Hint: You might want to use the element-wise multiplication operation and the sum operation when writing this function)"
   ]
  },
  {
   "cell_type": "code",
   "execution_count": 6,
   "metadata": {},
   "outputs": [],
   "source": [
    "m,n = x.shape\n",
    "\n",
    "# define theta as zero\n",
    "theta = np.zeros(n)\n",
    "\n",
    "# define hyperparameter λ\n",
    "lambda_ = 1\n",
    "\n",
    "# reshape (-1,1) because we just have one feature in y column\n",
    "y = y.reshape(-1,1)"
   ]
  },
  {
   "cell_type": "markdown",
   "metadata": {},
   "source": [
    "<strong>h = hypothesis(x,theta)</strong> will compute <strong>sigmoid</strong> function on <strong>θ<sup>T</sup>X</strong> and return a number which <strong>0<=h<=1</strong>.<br>\n",
    "You can use <a href='https://docs.scipy.org/doc/scipy-0.15.1/reference/generated/scipy.special.expit.html'>this</a> library for calculating sigmoid."
   ]
  },
  {
   "cell_type": "code",
   "execution_count": 7,
   "metadata": {},
   "outputs": [],
   "source": [
    "def sigmoid(z):\n",
    "    return 1/(1+np.exp(-z))"
   ]
  },
  {
   "cell_type": "code",
   "execution_count": 8,
   "metadata": {},
   "outputs": [],
   "source": [
    "def lr_hypothesis(x,theta):\n",
    "    return np.dot(x,theta)"
   ]
  },
  {
   "cell_type": "markdown",
   "metadata": {},
   "source": [
    "<strong>compute_cost</strong>: Compute cost for logistic regression with  regularization\n",
    "J = compute_cost(theta, x, y, lambda_) computes the cost of using theta as the parameter for regularized logistic regression and the gradient of the cost w.r.t. to the parameters.<br><br>\n",
    "<strong>Instructions: Compute the cost of a particular choice of theta.</strong><br>"
   ]
  },
  {
   "cell_type": "code",
   "execution_count": 9,
   "metadata": {},
   "outputs": [],
   "source": [
    "def compute_cost(theta,x,y,lambda_):\n",
    "    theta = theta.reshape(n,1)\n",
    "    infunc1 = -y*(np.log(sigmoid(lr_hypothesis(x,theta)))) - (1-y)*(np.log(1 - sigmoid(lr_hypothesis(x,theta))))\n",
    "    infunc2 = lambda_*np.sum(theta[1:]**2)/(2*m)\n",
    "    j = np.sum(infunc1)/m+ infunc2\n",
    "    return j"
   ]
  },
  {
   "cell_type": "markdown",
   "metadata": {},
   "source": [
    "## 2.B Vectorizing The Gradient\n",
    "Recall that the gradient of the logistic regression cost is a vector where the jth element is defined as:<img src='img/grad.JPG'><br>\n",
    "To vectorize this operation over the dataset, we start by writing out all the partial derivatives for all θ<sub>j</sub>:<img src='img/fullgrad.jpg'><br>Where:<img src='img/h-y.jpg'><br><br>\n",
    "Note that <strong>x<sup>(i)</sup> is a vector</strong>, while <strong>(h<sub>θ</sub>(x<sup>(i)</sup>)−y<sup>(i)</sup>) is a scalar</strong> (single number). To understand the last step of the derivation, let <strong>β<sub>i</sub> = (h<sub>θ</sub>(x<sup>(i)</sup>)−y<sup>(i)</sup>)</strong> and observe that:<img src='img/bx.jpg'><br> where the values <strong>β<sub>i</sub> = (h<sub>θ</sub>(x<sup>(i)</sup>)−y<sup>(i)</sup>)</strong>. <br>\n",
    "The expression above allows us to compute all the partial derivatives without any loops."
   ]
  },
  {
   "cell_type": "markdown",
   "metadata": {},
   "source": [
    "<strong>Debugging Tip:</strong> Vectorizing code can sometimes be tricky. One common strategy for debugging is to print out the sizes of the matrices you are working with using the size function. For example, given a data matrix X of size 100 × 20 (100 examples, 20 features) and θ, a vector with dimensions 20×1, you can observe that Xθ is a valid multiplication operation, while θX is not."
   ]
  },
  {
   "cell_type": "markdown",
   "metadata": {},
   "source": [
    "<strong>compute_gradient</strong>: Compute gradient for logistic regression with regularization\n",
    "gradient = compute_gradient(theta, x, y, lambda_) computes the gradient of using theta as the parameter for regularized logistic regression and the gradient of the cost w.r.t. to the parameters.<br><br>\n",
    "<strong>Instructions: Compute the gradient of a particular choice of theta.</strong><br>"
   ]
  },
  {
   "cell_type": "code",
   "execution_count": 10,
   "metadata": {},
   "outputs": [],
   "source": [
    "# gradient[0] correspond to gradient for theta(0)\n",
    "# gradient[1:] correspond to gradient for theta(j) j>0\n",
    "def compute_gradient(theta,x,y,lambda_):\n",
    "    gradient = np.zeros(n).reshape(n,)\n",
    "    theta = theta.reshape(n,1)\n",
    "    infunc1 = sigmoid(lr_hypothesis(x,theta))-y\n",
    "    gradient_in = np.dot(x.transpose(),infunc1)/m\n",
    "    gradient[0] = gradient_in[0,0] # theta(0)\n",
    "    gradient[1:] = gradient_in[1:,0]+(lambda_*theta[1:,]/m).reshape(n-1,) # theta(j) ; j>0\n",
    "    gradient = gradient.flatten()\n",
    "    return gradient"
   ]
  },
  {
   "cell_type": "markdown",
   "metadata": {},
   "source": [
    "### Testing compute_cost and compute_gradient Functions"
   ]
  },
  {
   "cell_type": "code",
   "execution_count": 11,
   "metadata": {},
   "outputs": [],
   "source": [
    "theta_test = np.array([-2,-1,1,2])\n",
    "\n",
    "x_test = np.append(np.ones(5),np.arange(0.1,1.6,0.1)).reshape(5,4, order='F')\n",
    "\n",
    "y_test = np.array([1,0,1,0,1]).reshape(-1,1)\n",
    "\n",
    "m,n= x_test.shape"
   ]
  },
  {
   "cell_type": "markdown",
   "metadata": {},
   "source": [
    "Now with <strong>lambda = 3</strong>, we should see that the <strong>cost = 2.534819</strong> and <strong>gradients should be  [0.146561, -0.548558, 0.724722,1.398003]</strong>."
   ]
  },
  {
   "cell_type": "code",
   "execution_count": 12,
   "metadata": {},
   "outputs": [
    {
     "name": "stdout",
     "output_type": "stream",
     "text": [
      "if lambda = 3 =======>\n",
      " cost = 2.5348193961097443\n",
      " ,\n",
      " gradients = \n",
      "[ 0.14656137 -0.54855841  0.72472227  1.39800296]\n"
     ]
    }
   ],
   "source": [
    "cost_temp = compute_cost(theta=theta_test,x=x_test,y=y_test,lambda_=3)\n",
    "gradient_temp = compute_gradient(theta=theta_test,x=x_test,y=y_test,lambda_=3)\n",
    "\n",
    "print('if lambda = 3 =======>\\n cost = {}\\n ,\\n gradients = \\n{}'\n",
    "      .format(cost_temp,gradient_temp))\n"
   ]
  },
  {
   "cell_type": "markdown",
   "metadata": {},
   "source": [
    "## 3. One-vs-all Classification\n",
    "In this part of the exercise, you will implement <strong>one-vs-all classification</strong> by training <strong>multiple regularized logistic regression classifiers</strong>, one for each of the K classes in our dataset. In the handwritten digits dataset, <strong>K = 10</strong>, but your code should work for any value of K.<br><br>\n",
    "In particular, your code should return all the classifier parameters in a matrix with R<sup>K×(N+1)</sup> dimensions , where <strong>each row corresponds to the learned logistic regression parameters for one class</strong>. You can do this with a \"for\" loop from 1 to K, training each classifier independently.<br>\n",
    "Note that the <strong>y argument to this function is a vector of labels from 1 to 10</strong>, where we have mapped the digit \"0\" to the label 10 (to avoid confusions with indexing).<br><br>\n",
    "When training the classifier for class k, you will want a m-dimensional vector of labels y, where y<sub>j</sub> (0 or 1) indicates whether the j-th training instance belongs to class k (y<sub>j</sub> = 1), or if it belongs to a different class (y<sub>j</sub> = 0). You may find logical arrays helpful for this task."
   ]
  },
  {
   "cell_type": "markdown",
   "metadata": {},
   "source": [
    "Furthermore, you will be using <strong>scipy.optimize.fmin_cg</strong> for this exercise. <strong>scipy.optimize.fmin_cg</strong> works similarly to </strong>scipy.optimize.minimize, if you choose solver 'CG'.<br>\n",
    "For more information use doc for <a href='https://docs.scipy.org/doc/scipy-0.13.0/reference/generated/scipy.optimize.minimize.html#scipy.optimize.minimize'>scipy.optimize.minimize</a>."
   ]
  },
  {
   "cell_type": "markdown",
   "metadata": {},
   "source": [
    "### 3.A Learning Parameters Using scipy.optimize.fmin_cg\n",
    "<strong>Scipy</strong>'s <strong>fmin_cg</strong> is an optimization solver that finds <strong>the minimum of a function</strong>. For regularized logistic regression, you want to optimize the cost function J(θ) with parameters θ. Concretely, you are going to use <strong>fmin_cg</strong> to find the best parameters θ for the regularized logistic regression cost function, given a fixed dataset (of x and y values). You will pass to <strong>fmin_cg</strong> the following inputs:<br>\n",
    "    <li> The initial values of the parameters we are trying to optimize.</li>\n",
    "    <li> A function that, when given the training set and a particular θ, computes the regularized logistic regression cost with respect to θ for the dataset (x, y) ======> <strong>compute_cost</strong></li>\n",
    "    <li> A function that, when given the training set and a particular θ, computes the regularized logistic regression gradient with respect to θ for the dataset (x, y) ======> <strong>compute_gradient</strong></li>"
   ]
  },
  {
   "cell_type": "markdown",
   "metadata": {},
   "source": [
    "For doing this step, we have many complex optimization fucntions. For optimizing this problem, we use this library <strong><a href='https://docs.scipy.org/doc/scipy-0.13.0/reference/generated/scipy.optimize.fmin_cg.html'>scipy.optimize.fmin_cg</a></strong>."
   ]
  },
  {
   "cell_type": "markdown",
   "metadata": {},
   "source": [
    "Now some explanation about below code that do all loops and updates and other calculations only in one line.<br>\n",
    "we need two functions, one for cost and the other for gradient that described above. all should have inputs you assgning for <strong>X0</strong> and <strong>args</strong>.<br>\n",
    "All of your functions should <strong>return just one variable</strong> which <strong>for cost, optimizer just minmize its return value but for gradient, because the target variable is theta which you specified by X0, optimizer will update theta to minimize cost</strong>.<br>\n",
    "And at last, you define the <strong>mathematical model</strong> to do this <strong>optimization</strong>."
   ]
  },
  {
   "cell_type": "markdown",
   "metadata": {},
   "source": [
    "<strong>one_vs_all(x, y, num_labels, lambda)</strong> trains multiple logistic regression classifiers and <strong>returns all the classifiers in a matrix all_theta</strong>, where the i-th row of all_theta corresponds to the classifier for label i."
   ]
  },
  {
   "cell_type": "code",
   "execution_count": 30,
   "metadata": {},
   "outputs": [],
   "source": [
    "m,n = x.shape\n",
    "lambda_=0.1"
   ]
  },
  {
   "cell_type": "code",
   "execution_count": 36,
   "metadata": {},
   "outputs": [],
   "source": [
    "# import library\n",
    "import scipy.optimize as opt\n",
    "\n",
    "def one_vs_all(theta,x,y,num_labels,lambda_):\n",
    "    all_theta = np.zeros(shape=(num_labels,n))\n",
    "    \n",
    "    for i in range(0,num_labels):\n",
    "        all_theta[i] = opt.fmin_cg(f=compute_cost,fprime=compute_gradient,x0 = theta,args=(x,(y==i)*1,lambda_))\n",
    "        \n",
    "    return all_theta"
   ]
  },
  {
   "cell_type": "code",
   "execution_count": 39,
   "metadata": {},
   "outputs": [
    {
     "name": "stdout",
     "output_type": "stream",
     "text": [
      "Optimization terminated successfully.\n",
      "         Current function value: 0.000163\n",
      "         Iterations: 7\n",
      "         Function evaluations: 29\n",
      "         Gradient evaluations: 29\n",
      "Optimization terminated successfully.\n",
      "         Current function value: 0.013716\n",
      "         Iterations: 129\n",
      "         Function evaluations: 486\n",
      "         Gradient evaluations: 486\n",
      "Optimization terminated successfully.\n",
      "         Current function value: 0.054751\n",
      "         Iterations: 263\n",
      "         Function evaluations: 829\n",
      "         Gradient evaluations: 829\n",
      "Optimization terminated successfully.\n",
      "         Current function value: 0.068097\n",
      "         Iterations: 256\n",
      "         Function evaluations: 755\n",
      "         Gradient evaluations: 755\n",
      "Optimization terminated successfully.\n",
      "         Current function value: 0.033994\n",
      "         Iterations: 192\n",
      "         Function evaluations: 641\n",
      "         Gradient evaluations: 641\n",
      "Optimization terminated successfully.\n",
      "         Current function value: 0.054526\n",
      "         Iterations: 236\n",
      "         Function evaluations: 711\n",
      "         Gradient evaluations: 711\n",
      "Optimization terminated successfully.\n",
      "         Current function value: 0.020155\n",
      "         Iterations: 168\n",
      "         Function evaluations: 606\n",
      "         Gradient evaluations: 606\n",
      "Optimization terminated successfully.\n",
      "         Current function value: 0.031475\n",
      "         Iterations: 184\n",
      "         Function evaluations: 640\n",
      "         Gradient evaluations: 640\n",
      "Optimization terminated successfully.\n",
      "         Current function value: 0.117650\n",
      "         Iterations: 378\n",
      "         Function evaluations: 1019\n",
      "         Gradient evaluations: 1019\n",
      "Optimization terminated successfully.\n",
      "         Current function value: 0.083615\n",
      "         Iterations: 271\n",
      "         Function evaluations: 768\n",
      "         Gradient evaluations: 768\n"
     ]
    }
   ],
   "source": [
    "all_theta = one_vs_all(theta,x,y,10,lambda_)"
   ]
  },
  {
   "cell_type": "markdown",
   "metadata": {},
   "source": [
    "### 3.B One-vs-all Prediction\n",
    "After training your one-vs-all classifier, you can now use it to predict the digit contained in a given image. For each input, you should compute the <strong>\"probability\"</strong> that it belongs to each class using the trained logistic regression classifiers. Your one-vs-all prediction function will <strong>pick the class</strong> for which the corresponding logistic regression classifier <strong>outputs the highest probability</strong> and return the class label (1, 2,..., or K) as the prediction for the input example.<br><br>\n",
    "In this step, we to compute probability and then predict using probabailties."
   ]
  },
  {
   "cell_type": "markdown",
   "metadata": {},
   "source": [
    "#### Probability\n",
    "For this prediction, we need just put this test data as new x to the sigmoid fucntion. For better usage, <br>\n",
    "we implement <strong>get_probability(x,theta)</strong> function."
   ]
  },
  {
   "cell_type": "code",
   "execution_count": 43,
   "metadata": {},
   "outputs": [],
   "source": [
    "def get_propability(x,theta):\n",
    "    p = sigmoid(lr_hypothesis(x,theta))\n",
    "    return p"
   ]
  },
  {
   "cell_type": "markdown",
   "metadata": {},
   "source": [
    "<strong>predict_one_vs_all(all_theta, x)</strong> will <strong>return a vector of predictions for each example in the matrix x</strong>. Note that X contains the examples in rows. all_theta is a matrix where the i-th row is a trained logistic regression theta vector for the i-th class."
   ]
  },
  {
   "cell_type": "code",
   "execution_count": 64,
   "metadata": {},
   "outputs": [],
   "source": [
    "num_labels = 10\n",
    "\n",
    "def predict_one_vs_all(all_theta, x,lambda_):\n",
    "    y_probs  = np.zeros(shape=(m,num_labels)) # we return index of max prob as class (argmax = k)\n",
    "    \n",
    "    for i in range(num_labels):\n",
    "        y_probs[:,i] = get_propability(x,all_theta[i])\n",
    "    \n",
    "    y_pred = np.argmax(y_probs, axis=1).reshape(-1,1)\n",
    "    return y_pred"
   ]
  },
  {
   "cell_type": "code",
   "execution_count": 67,
   "metadata": {},
   "outputs": [
    {
     "data": {
      "text/plain": [
       "(5000, 1)"
      ]
     },
     "execution_count": 67,
     "metadata": {},
     "output_type": "execute_result"
    }
   ],
   "source": [
    "y_pred = predict_one_vs_all(all_theta,x,lambda_)\n",
    "y_pred.shape"
   ]
  },
  {
   "cell_type": "markdown",
   "metadata": {},
   "source": [
    "Now we will compare our predicted result to the true one with <a href='http://scikit-learn.org/stable/modules/generated/sklearn.metrics.confusion_matrix.html'>confusion_matrix</a> of numpy library."
   ]
  },
  {
   "cell_type": "code",
   "execution_count": 74,
   "metadata": {},
   "outputs": [],
   "source": [
    "from sklearn.metrics import confusion_matrix\n",
    "\n",
    "# Function for accuracy\n",
    "def acc(confusion_matrix):\n",
    "    t = 0\n",
    "    for i in range(num_labels):\n",
    "        t += confusion_matrix[i][i]\n",
    "    f = m-t\n",
    "    ac = t/(m)\n",
    "    return (t,f,ac)"
   ]
  },
  {
   "cell_type": "code",
   "execution_count": 75,
   "metadata": {},
   "outputs": [
    {
     "name": "stdout",
     "output_type": "stream",
     "text": [
      "With lambda = 0.1, #4296 correct, #704 wrong ==========> accuracy = 85.92%\n"
     ]
    }
   ],
   "source": [
    "#import library\n",
    "from sklearn.metrics import confusion_matrix\n",
    "cm_train = confusion_matrix(y.reshape(m,),y_pred.reshape(m,))\n",
    "t,f,ac = acc(cm_train)\n",
    "print('With lambda = {}, #{} correct, #{} wrong ==========> accuracy = {}%'\n",
    "          .format(lambda_,t,f,ac*100))"
   ]
  },
  {
   "cell_type": "code",
   "execution_count": null,
   "metadata": {},
   "outputs": [],
   "source": []
  }
 ],
 "metadata": {
  "kernelspec": {
   "display_name": "Python 3",
   "language": "python",
   "name": "python3"
  },
  "language_info": {
   "codemirror_mode": {
    "name": "ipython",
    "version": 3
   },
   "file_extension": ".py",
   "mimetype": "text/x-python",
   "name": "python",
   "nbconvert_exporter": "python",
   "pygments_lexer": "ipython3",
   "version": "3.6.6"
  }
 },
 "nbformat": 4,
 "nbformat_minor": 2
}
