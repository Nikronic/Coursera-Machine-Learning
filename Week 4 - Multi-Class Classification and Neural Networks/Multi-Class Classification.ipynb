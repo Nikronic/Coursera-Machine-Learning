{
 "cells": [
  {
   "cell_type": "markdown",
   "metadata": {},
   "source": [
    "# Multi-class Classification\n",
    "For this exercise, you will use logistic regression and neural networks to recognize handwritten digits (from 0 to 9).<br> Automated handwritten digit recognition is widely used today - from recognizing zip codes (postal codes) on mail envelopes to recognizing amounts written on bank checks. This exercise will show you how the methods you’ve learned can be used for this classification task.<br>\n",
    "In the first part of the exercise, you will extend your previous implemention of <strong>logistic regression</strong> and apply it to <strong>one-vs-all classification</strong>.<br><br>\n",
    "\n",
    "The file <strong><em>ex3data1</em></strong> contains a training set.<br>\n",
    "The structure of the dataset described blow:<br>\n",
    "1. X array = <strong>400 columns describe the values of pixels of 20*20 images in flatten format for 5000 samples</strong>\n",
    "2. y array = <strong>Value of image (number between 0-9)</strong>\n",
    "\n",
    "\n",
    "<br><br>\n",
    "<strong>\n",
    "Our assignment has these sections:\n",
    "1. Visualizing the Data\n",
    "    1. Converting .mat to .csv\n",
    "    2. Loading Dataset\n",
    "    3. Ploting Data\n",
    "2. Vectorizing Logistic Regression\n",
    "    1. Vectorizing the cost function\n",
    "    2. Vectorizing the gradient\n",
    "    3. Vectorizing regularized logistic regression\n",
    "3. One-vs-all Classification\n",
    "    1. One-vs-all Prediction\n",
    "</strong>\n",
    "\n",
    "In each section full description provided."
   ]
  },
  {
   "cell_type": "markdown",
   "metadata": {},
   "source": [
    "## 1. Visualizing the Dataset\n",
    "Before starting on any task, it is often useful to understand the data by visualizing it.<br>"
   ]
  },
  {
   "cell_type": "markdown",
   "metadata": {},
   "source": [
    "### 1.A Converting .mat to .csv\n",
    "In this specific assignment, the instructor added a .mat file as training set. But we have to convert it to .csv to use in python.<br>\n",
    "After all we now ready to import our new csv files to pandas dataframes and do preprocessing on it and make it ready for next steps."
   ]
  },
  {
   "cell_type": "code",
   "execution_count": 1,
   "metadata": {},
   "outputs": [],
   "source": [
    "# import libraries\n",
    "import scipy.io\n",
    "import numpy as np\n",
    "\n",
    "data = scipy.io.loadmat(\"ex3data1\")"
   ]
  },
  {
   "cell_type": "markdown",
   "metadata": {},
   "source": [
    "Now we extract X and y variables from the .mat file and save them into .csv file for further usage. After running the below code <strong>you should see X.csv and y.csv files</strong> in your directory."
   ]
  },
  {
   "cell_type": "code",
   "execution_count": 2,
   "metadata": {},
   "outputs": [],
   "source": [
    "for i in data:\n",
    "    if '__' not in i and 'readme' not in i:\n",
    "        np.savetxt((i+\".csv\"),data[i],delimiter=',')"
   ]
  },
  {
   "cell_type": "markdown",
   "metadata": {},
   "source": [
    "### 1.B Loading Dataset\n",
    "First we import .csv files into pandas dataframes then save them into numpy arrays.<br><br>\n",
    "There are <strong>5000 training examples</strong> in ex3data1.mat, where each training example is a <strong>20 pixel by 20 pixel <em>grayscale</em> image of the digit</strong>. Each pixel is represented by a floating point number indicating the <strong>grayscale intensity</strong> at that location. The 20 by 20 grid of pixels is <strong>\"flatten\" into a 400-dimensional vector</strong>. <strong>Each of these training examples becomes a single row in our data matrix X</strong>. This gives us a 5000 by 400 matrix X where every row is a training example for a handwritten digit image.<br>\n",
    "The structure of X is look like this: <img src='img/x.jpg'><br>\n",
    "The second part of the training set is a <strong>5000-dimensional vector y that contains labels</strong> for the training set.<br><br>\n",
    "<strong>Notice: In dataset, the digit zero mapped to the value ten. Therefore, a \"0\" digit is labeled as \"10\", while the digits \"1\" to \"9\" are labeled as \"1\" to \"9\" in their natural order."
   ]
  },
  {
   "cell_type": "code",
   "execution_count": 3,
   "metadata": {},
   "outputs": [],
   "source": [
    "# import library\n",
    "import pandas as pd\n",
    "\n",
    "# saving .csv files to pandas dataframes\n",
    "x_df = pd.read_csv('X.csv',names= np.arange(0,400))\n",
    "y_df = pd.read_csv('y.csv',names=['label'])"
   ]
  },
  {
   "cell_type": "code",
   "execution_count": 4,
   "metadata": {},
   "outputs": [
    {
     "name": "stdout",
     "output_type": "stream",
     "text": [
      "#5000 Number of training samples, #400 features per sample\n"
     ]
    }
   ],
   "source": [
    "# saving x_df and y_df into numpy arrays\n",
    "x = x_df.iloc[:,:].values\n",
    "y = y_df.iloc[:,:].values\n",
    "m, n = x.shape\n",
    "print('#{} Number of training samples, #{} features per sample'.format(m,n))"
   ]
  },
  {
   "cell_type": "markdown",
   "metadata": {},
   "source": [
    "### 1.C Plotting Data\n",
    "You will begin by visualizing a subset of the training set. In first part, the code <strong>randomly selects selects 100 rows from X</strong> and passes those rows to the <strong>display_data</strong> function. This function maps each row to a 20 pixel by 20 pixel grayscale image and displays the images together.<br>\n",
    "After plotting, you should see an image like this:<img src='img/plot.jpg'>"
   ]
  },
  {
   "cell_type": "code",
   "execution_count": 5,
   "metadata": {},
   "outputs": [
    {
     "data": {
      "text/plain": [
       "<Figure size 800x800 with 100 Axes>"
      ]
     },
     "metadata": {},
     "output_type": "display_data"
    },
    {
     "data": {
      "text/plain": [
       "array([  1.,   9.,   4.,   1.,   3.,   9.,   9.,   3.,   8.,   1.,   1.,\n",
       "         3.,   2.,   5.,   2.,   6.,   9.,   7.,   3.,   7.,   2.,   8.,\n",
       "         1.,   6.,   9.,   6.,  10.,   7.,   2.,   4.,   9.,   6.,   3.,\n",
       "         9.,   9.,   4.,   6.,   2.,   5.,   7.,   4.,   7.,   5.,   6.,\n",
       "        10.,   4.,   5.,   9.,   8.,   9.,   3.,   4.,  10.,   3.,   8.,\n",
       "         2.,   7.,   2.,   5.,   1.,   2.,   8.,   8.,   1.,   2.,   5.,\n",
       "         6.,   2.,   5.,   4.,   7.,   6.,   6.,   7.,  10.,   2.,   9.,\n",
       "         7.,  10.,  10.,   1.,   4.,  10.,   2.,   3.,   4.,   3.,   1.,\n",
       "         7.,   4.,   2.,   9.,   5.,   9.,   1.,   3.,   2.,   4.,   6.,\n",
       "         1.])"
      ]
     },
     "execution_count": 5,
     "metadata": {},
     "output_type": "execute_result"
    }
   ],
   "source": [
    "import numpy as np\n",
    "import matplotlib.pyplot as plt\n",
    "import random\n",
    "\n",
    "amount = 100\n",
    "lines = 10\n",
    "columns = 10\n",
    "image = np.zeros((amount, 20, 20))\n",
    "number = np.zeros(amount)\n",
    "\n",
    "for i in range(amount):\n",
    "    rnd = random.randint(0,4999)\n",
    "    image[i] = x[rnd].reshape(20, 20)\n",
    "    y_temp = y.reshape(m,)\n",
    "    number[i] = y_temp[rnd]\n",
    "fig = plt.figure(figsize=(8,8))\n",
    "\n",
    "for i in range(amount):\n",
    "    ax = fig.add_subplot(lines, columns, 1 + i)\n",
    "    \n",
    "    # Turn off tick labels\n",
    "    ax.set_yticklabels([])\n",
    "    ax.set_xticklabels([])\n",
    "    plt.imshow(image[i], cmap='binary')\n",
    "plt.show()\n",
    "number # recall 10 shows the value 0!"
   ]
  },
  {
   "cell_type": "markdown",
   "metadata": {},
   "source": [
    "## 2 Vectorizing Logistic Regression\n",
    "You will be using <strong>multiple one-vs-all logistic regression</strong> models to build a <strong>multi-class classifier</strong>. Since there are 10 classes, you will need to <strong>train 10 separate logistic regression classifiers</strong>. To make this training <strong>efficient</strong>, it is important to ensure that your code is <strong>well vectorized</strong>. In this section, you will implement a vectorized version of logistic regression that does not employ any <strong>for</strong> loops.<br>"
   ]
  },
  {
   "cell_type": "markdown",
   "metadata": {},
   "source": [
    "### 2.A Vectorizing the Cost Function\n",
    "We will begin by writing a vectorized version of the cost function. Recall that in (unregularized) logistic regression, the cost function is: <img src='img/j.jpg'>.<br>\n",
    "To compute each element in the summation, we have to compute <strong>h<sub>θ</sub>(x<sup>(i)</sup>)</strong> for every example <strong>i</strong>, where <strong>h<sub>θ</sub>(x(i)) = g(θ<sup>T</sup> x<sup>(i)</sup>)</strong> and <strong>g(z) = 1/(1+e<sup>−z</sup>)</strong> is the sigmoid function. It turns out that we can compute this quickly for all our examples by using matrix multiplication. Let us define <strong>X</strong> and <strong>θ</strong> as: <img src='img/xandtheta.jpg'><br>\n",
    "Then, by computing the matrix <strong>product Xθ</strong>, we have: <img src='img/xtheta.jpg'>.<br>\n",
    "In the last equality, we used the fact that <strong>a<sup>T</sup>b = b<sup>T</sup>a</strong> if <strong>a</strong> and <strong>b</strong> are vectors. This allows us to compute the products <strong>θ<sup>T</sup>x<sup>(i)</sup></strong> for all our examples i in one line of code.<br><br>\n",
    "A <strong>fully vectorized</strong> version of <strong>cost function</strong> should contains <strong>no loops.</strong><br><br>\n",
    "(Hint: You might want to use the element-wise multiplication operation and the sum operation when writing this function)"
   ]
  },
  {
   "cell_type": "code",
   "execution_count": 7,
   "metadata": {},
   "outputs": [],
   "source": [
    "m,n = x.shape\n",
    "\n",
    "# define theta as zero\n",
    "theta = np.zeros(n)\n",
    "\n",
    "# define hyperparameter λ\n",
    "lambda_ = 1\n",
    "\n",
    "# reshape (-1,1) because we just have one feature in y column\n",
    "y = y.reshape(-1,1)"
   ]
  },
  {
   "cell_type": "markdown",
   "metadata": {},
   "source": [
    "<strong>h = hypothesis(x,theta)</strong> will compute <strong>sigmoid</strong> function on <strong>θ<sup>T</sup>X</strong> and return a number which <strong>0<=h<=1</strong>.<br>\n",
    "You can use <a href='https://docs.scipy.org/doc/scipy-0.15.1/reference/generated/scipy.special.expit.html'>this</a> library for calculating sigmoid."
   ]
  },
  {
   "cell_type": "code",
   "execution_count": 8,
   "metadata": {},
   "outputs": [],
   "source": [
    "def sigmoid(z):\n",
    "    return 1/(1+np.exp(-z))"
   ]
  },
  {
   "cell_type": "code",
   "execution_count": 9,
   "metadata": {},
   "outputs": [],
   "source": [
    "def lr_hypothesis(x,theta):\n",
    "    return np.dot(x,theta)"
   ]
  },
  {
   "cell_type": "markdown",
   "metadata": {},
   "source": [
    "<strong>compute_cost</strong>: Compute cost for logistic regression with  regularization\n",
    "J = compute_cost(theta, x, y, lambda_) computes the cost of using theta as the parameter for regularized logistic regression and the gradient of the cost w.r.t. to the parameters.<br><br>\n",
    "<strong>Instructions: Compute the cost of a particular choice of theta.</strong><br>"
   ]
  },
  {
   "cell_type": "code",
   "execution_count": 10,
   "metadata": {},
   "outputs": [],
   "source": [
    "def compute_cost(theta,x,y,lambda_):\n",
    "    theta = theta.reshape(n,1)\n",
    "    infunc1 = -y*(np.log(sigmoid(lr_hypothesis(x,theta)))) - (1-y)*(np.log(1 - sigmoid(lr_hypothesis(x,theta))))\n",
    "    infunc2 = lambda_*np.sum(theta[1:])/2*m\n",
    "    j = np.sum(infunc1)/m+ infunc2\n",
    "    return j"
   ]
  },
  {
   "cell_type": "code",
   "execution_count": null,
   "metadata": {},
   "outputs": [],
   "source": []
  },
  {
   "cell_type": "markdown",
   "metadata": {},
   "source": [
    "<strong>compute_gradient</strong>: Compute gradient for logistic regression with regularization\n",
    "gradient = compute_gradient(theta, x, y, lambda_) computes the gradient of using theta as the parameter for regularized logistic regression and the gradient of the cost w.r.t. to the parameters.<br><br>\n",
    "<strong>Instructions: Compute the gradient of a particular choice of theta.</strong><br>"
   ]
  },
  {
   "cell_type": "code",
   "execution_count": 11,
   "metadata": {},
   "outputs": [],
   "source": []
  },
  {
   "cell_type": "code",
   "execution_count": null,
   "metadata": {},
   "outputs": [],
   "source": []
  }
 ],
 "metadata": {
  "kernelspec": {
   "display_name": "Python 3",
   "language": "python",
   "name": "python3"
  },
  "language_info": {
   "codemirror_mode": {
    "name": "ipython",
    "version": 3
   },
   "file_extension": ".py",
   "mimetype": "text/x-python",
   "name": "python",
   "nbconvert_exporter": "python",
   "pygments_lexer": "ipython3",
   "version": "3.6.6"
  }
 },
 "nbformat": 4,
 "nbformat_minor": 2
}
