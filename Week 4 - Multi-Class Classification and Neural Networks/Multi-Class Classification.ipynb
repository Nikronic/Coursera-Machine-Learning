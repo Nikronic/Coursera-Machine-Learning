{
 "cells": [
  {
   "cell_type": "markdown",
   "metadata": {},
   "source": [
    "# Multi-class Classification\n",
    "For this exercise, you will use logistic regression and neural networks to recognize handwritten digits (from 0 to 9).<br> Automated handwritten digit recognition is widely used today - from recognizing zip codes (postal codes) on mail envelopes to recognizing amounts written on bank checks. This exercise will show you how the methods you’ve learned can be used for this classification task.<br>\n",
    "In the first part of the exercise, you will extend your previous implemention of <strong>logistic regression</strong> and apply it to <strong>one-vs-all classification</strong>.<br><br>\n",
    "\n",
    "The file <strong><em>ex3data1</em></strong> contains a training set.<br>\n",
    "The structure of the dataset described blow:<br>\n",
    "1. X array = <strong>400 columns describe the values of pixels of 20*20 images in flatten format for 5000 samples</strong>\n",
    "2. y array = <strong>Value of image (number between 0-9)</strong>\n",
    "\n",
    "\n",
    "<br><br>\n",
    "<strong>\n",
    "Our assignment has these sections:\n",
    "1. Visualizing the Data\n",
    "    1. Converting .mat to .csv\n",
    "    1. Loading Dataset and Preprocess\n",
    "    2. Ploting Data\n",
    "2. Vectorizing Logistic Regression\n",
    "    1. Vectorizing the cost function\n",
    "    2. Vectorizing the gradient\n",
    "    3. Vectorizing regularized logistic regression\n",
    "3. One-vs-all Classification\n",
    "    1. One-vs-all Prediction\n",
    "</strong>\n",
    "\n",
    "In each section full description provided."
   ]
  },
  {
   "cell_type": "code",
   "execution_count": 2,
   "metadata": {},
   "outputs": [],
   "source": [
    "import scipy.io\n",
    "import numpy as np\n",
    "\n",
    "data = scipy.io.loadmat(\"ex3data1\")"
   ]
  },
  {
   "cell_type": "code",
   "execution_count": 5,
   "metadata": {},
   "outputs": [],
   "source": [
    "for i in data:\n",
    "\tif '__' not in i and 'readme' not in i:\n",
    "\t\tnp.savetxt((i+\".csv\"),data[i],delimiter=',')\n"
   ]
  },
  {
   "cell_type": "code",
   "execution_count": null,
   "metadata": {},
   "outputs": [],
   "source": []
  }
 ],
 "metadata": {
  "kernelspec": {
   "display_name": "Python 3",
   "language": "python",
   "name": "python3"
  },
  "language_info": {
   "codemirror_mode": {
    "name": "ipython",
    "version": 3
   },
   "file_extension": ".py",
   "mimetype": "text/x-python",
   "name": "python",
   "nbconvert_exporter": "python",
   "pygments_lexer": "ipython3",
   "version": "3.6.6"
  }
 },
 "nbformat": 4,
 "nbformat_minor": 2
}
