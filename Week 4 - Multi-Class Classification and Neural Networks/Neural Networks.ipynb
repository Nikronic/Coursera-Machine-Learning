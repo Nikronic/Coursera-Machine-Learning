{
 "cells": [
  {
   "cell_type": "markdown",
   "metadata": {},
   "source": [
    "# Neural Networks\n",
    "In the previous part of this exercise, you implemented multi-class logistic re gression to recognize handwritten digits. However, logistic regression cannot form more complex hypotheses as it is only a linear classifier.<br><br>\n",
    "\n",
    "In this part of the exercise, you will implement a neural network to recognize handwritten digits using the same training set as before. The <strong>neural network</strong> will be able to represent complex models that form <strong>non-linear hypotheses</strong>. For this week, you will be using parameters from <strong>a neural network that we have already trained</strong>. Your goal is to implement the <strong>feedforward propagation algorithm to use our weights for prediction</strong>. In next week’s exercise, you will write the backpropagation algorithm for learning the neural network parameters.<br><br>\n",
    "\n",
    "The file <strong><em>ex3data1</em></strong> contains a training set.<br>\n",
    "The structure of the dataset described blow:<br>\n",
    "1. X array = <strong>400 columns describe the values of pixels of 20*20 images in flatten format for 5000 samples</strong>\n",
    "2. y array = <strong>Value of image (number between 0-9)</strong>\n",
    "\n",
    "\n",
    "<br><br>\n",
    "<strong>\n",
    "Our assignment has these sections:\n",
    "1. Visualizing the Data\n",
    "    1. Converting .mat to .csv\n",
    "    2. Loading Dataset and Trained Neural Network Weights\n",
    "    3. Ploting Data\n",
    "2. Model Representation\n",
    "3. Feedforward Propagation and Prediction\n",
    "</strong>\n",
    "\n",
    "In each section full description provided."
   ]
  },
  {
   "cell_type": "markdown",
   "metadata": {},
   "source": [
    "## 1. Visualizing the Dataset\n",
    "Before starting on any task, it is often useful to understand the data by visualizing it.<br>"
   ]
  },
  {
   "cell_type": "markdown",
   "metadata": {},
   "source": [
    "### 1.A Converting .mat to .csv\n",
    "In this specific assignment, the instructor added a .mat file as training set and weights of trained neural network. But we have to convert it to .csv to use in python.<br>\n",
    "After all we now ready to import our new csv files to pandas dataframes and do preprocessing on it and make it ready for next steps."
   ]
  },
  {
   "cell_type": "code",
   "execution_count": 2,
   "metadata": {},
   "outputs": [],
   "source": [
    "# import libraries\n",
    "import scipy.io\n",
    "import numpy as np\n",
    "\n",
    "data = scipy.io.loadmat(\"ex3data1\")\n",
    "weights = scipy.io.loadmat('ex3weights')"
   ]
  },
  {
   "cell_type": "markdown",
   "metadata": {},
   "source": [
    "Now we extract X and y variables from the .mat file and save them into .csv file for further usage. After running the below code <strong>you should see X.csv and y.csv files</strong> in your directory."
   ]
  },
  {
   "cell_type": "code",
   "execution_count": 3,
   "metadata": {},
   "outputs": [],
   "source": [
    "for i in data:\n",
    "    if '__' not in i and 'readme' not in i:\n",
    "        np.savetxt((i+\".csv\"),data[i],delimiter=',')\n",
    "        \n",
    "for i in weights:\n",
    "    if '__' not in i and 'readme' not in i:\n",
    "        np.savetxt((i+\".csv\"),weights[i],delimiter=',')"
   ]
  },
  {
   "cell_type": "markdown",
   "metadata": {},
   "source": [
    "### 1.B Loading Dataset and Trained Neural Network Weights\n",
    "First we import .csv files into pandas dataframes then save them into numpy arrays.<br><br>\n",
    "There are <strong>5000 training examples</strong> in ex3data1.mat, where each training example is a <strong>20 pixel by 20 pixel <em>grayscale</em> image of the digit</strong>. Each pixel is represented by a floating point number indicating the <strong>grayscale intensity</strong> at that location. The 20 by 20 grid of pixels is <strong>\"flatten\" into a 400-dimensional vector</strong>. <strong>Each of these training examples becomes a single row in our data matrix X</strong>. This gives us a 5000 by 400 matrix X where every row is a training example for a handwritten digit image.<br><br>\n",
    "The second part of the training set is a <strong>5000-dimensional vector y that contains labels</strong> for the training set.<br><br>\n",
    "<strong>Notice: In dataset, the digit zero mapped to the value ten. Therefore, a \"0\" digit is labeled as \"10\", while the digits \"1\" to \"9\" are labeled as \"1\" to \"9\" in their natural order.<br></strong>\n",
    "But this make thing harder so we bring it back to natural order for 0!"
   ]
  },
  {
   "cell_type": "code",
   "execution_count": 4,
   "metadata": {},
   "outputs": [],
   "source": [
    "# import library\n",
    "import pandas as pd\n",
    "\n",
    "# saving .csv files to pandas dataframes\n",
    "x_df = pd.read_csv('X.csv',names= np.arange(0,400))\n",
    "y_df = pd.read_csv('y.csv',names=['label'])"
   ]
  },
  {
   "cell_type": "code",
   "execution_count": 5,
   "metadata": {},
   "outputs": [],
   "source": [
    "# saving .csv files to pandas dataframes\n",
    "Theta1_df = pd.read_csv('Theta1.csv',names = np.arange(0,401))\n",
    "Theta2_df = pd.read_csv('Theta2.csv',names = np.arange(0,26))"
   ]
  },
  {
   "cell_type": "code",
   "execution_count": 6,
   "metadata": {},
   "outputs": [
    {
     "name": "stdout",
     "output_type": "stream",
     "text": [
      "#5000 Number of training samples, #400 features per sample\n"
     ]
    }
   ],
   "source": [
    "# saving x_df and y_df into numpy arrays\n",
    "x = x_df.iloc[:,:].values\n",
    "y = y_df.iloc[:,:].values\n",
    "\n",
    "m, n = x.shape\n",
    "\n",
    "# bring back 0 to 0 !!!\n",
    "y = y.reshape(m,)\n",
    "y[y==10] = 0\n",
    "y = y.reshape(m,1)\n",
    "\n",
    "print('#{} Number of training samples, #{} features per sample'.format(m,n))"
   ]
  },
  {
   "cell_type": "code",
   "execution_count": 7,
   "metadata": {},
   "outputs": [],
   "source": [
    "# saving Theta1_df and Theta2_df into numpy arrays\n",
    "theta1 = Theta1_df.iloc[:,:].values\n",
    "theta2 = Theta2_df.iloc[:,:].values"
   ]
  },
  {
   "cell_type": "markdown",
   "metadata": {},
   "source": [
    "### 1.C Plotting Data\n",
    "You will begin by visualizing a subset of the training set. In first part, the code <strong>randomly selects selects 100 rows from X</strong> and passes those rows to the <strong>display_data</strong> function. This function maps each row to a 20 pixel by 20 pixel grayscale image and displays the images together.<br>\n",
    "After plotting, you should see an image like this:<img src='img/plot.jpg'>"
   ]
  },
  {
   "cell_type": "code",
   "execution_count": 8,
   "metadata": {},
   "outputs": [
    {
     "data": {
      "text/plain": [
       "<Figure size 800x800 with 100 Axes>"
      ]
     },
     "metadata": {},
     "output_type": "display_data"
    },
    {
     "name": "stdout",
     "output_type": "stream",
     "text": [
      "[ 5.  0.  3.  1.  4.  2.  3.  3.  6.  5.  3.  0.  1.  2.  4.  1.  9.  0.\n",
      "  6.  5.  4.  2.  2.  4.  4.  7.  6.  7.  4.  5.  6.  5.  2.  4.  5.  9.\n",
      "  3.  2.  8.  4.  1.  4.  0.  0.  8.  5.  7.  4.  6.  4.  1.  8.  9.  7.\n",
      "  0.  1.  2.  9.  5.  8.  2.  7.  5.  5.  8.  7.  6.  6.  8.  4.  3.  4.\n",
      "  9.  2.  1.  1.  3.  3.  7.  0.  8.  6.  2.  3.  8.  1.  6.  1.  9.  0.\n",
      "  1.  6.  6.  5.  0.  8.  5.  6.  4.  7.]\n"
     ]
    }
   ],
   "source": [
    "import numpy as np\n",
    "import matplotlib.pyplot as plt\n",
    "import random\n",
    "\n",
    "amount = 100\n",
    "lines = 10\n",
    "columns = 10\n",
    "image = np.zeros((amount, 20, 20))\n",
    "number = np.zeros(amount)\n",
    "\n",
    "for i in range(amount):\n",
    "    rnd = random.randint(0,4999)\n",
    "    image[i] = x[rnd].reshape(20, 20)\n",
    "    y_temp = y.reshape(m,)\n",
    "    number[i] = y_temp[rnd]\n",
    "fig = plt.figure(figsize=(8,8))\n",
    "\n",
    "for i in range(amount):\n",
    "    ax = fig.add_subplot(lines, columns, 1 + i)\n",
    "    \n",
    "    # Turn off tick labels\n",
    "    ax.set_yticklabels([])\n",
    "    ax.set_xticklabels([])\n",
    "    plt.imshow(image[i], cmap='binary')\n",
    "plt.show()\n",
    "print(number)"
   ]
  },
  {
   "cell_type": "markdown",
   "metadata": {},
   "source": [
    "# 2. Model Representation\n",
    "Our neural network is shown in below figure. It has <strong>3 layers an input layer, a hidden layer and an output layer</strong>. Recall that our <strong>inputs are pixel</strong> values of digit images. Since the images are of <strong>size 20×20</strong>, this gives us <strong>400 input layer units</strong> (excluding the extra bias unit which always outputs +1).<br><br><img src='img/nn.jpg'><br>\n",
    "You have been provided with a set of <strong>network parameters (Θ<sup>(1)</sup>; Θ<sup>(2)</sup>)</strong> already trained by instructor.<br><br>\n",
    "<strong>Theta1 and Theta2 The parameters have dimensions that are sized for a neural network with 25 units in the second layer and 10 output units (corresponding to the 10 digit classes).</strong>"
   ]
  },
  {
   "cell_type": "code",
   "execution_count": 9,
   "metadata": {},
   "outputs": [
    {
     "name": "stdout",
     "output_type": "stream",
     "text": [
      "theta1 shape = (25, 401), theta2 shape = (10, 26)\n"
     ]
    }
   ],
   "source": [
    "print('theta1 shape = {}, theta2 shape = {}'.format(theta1.shape,theta2.shape))"
   ]
  },
  {
   "cell_type": "markdown",
   "metadata": {},
   "source": [
    "It seems our weights are transposed, so we transpose them to have them in a way our neural network is."
   ]
  },
  {
   "cell_type": "code",
   "execution_count": 10,
   "metadata": {},
   "outputs": [
    {
     "name": "stdout",
     "output_type": "stream",
     "text": [
      "theta1 shape = (401, 25), theta2 shape = (26, 10)\n"
     ]
    }
   ],
   "source": [
    "theta1 = theta1.transpose()\n",
    "theta2 = theta2.transpose()\n",
    "print('theta1 shape = {}, theta2 shape = {}'.format(theta1.shape,theta2.shape))"
   ]
  },
  {
   "cell_type": "markdown",
   "metadata": {},
   "source": [
    "# 3. Feedforward Propagation and Prediction\n",
    "Now you will implement feedforward propagation for the neural network.<br>\n",
    "You should implement the <strong>feedforward computation</strong> that computes <strong>h<sub>θ</sub>(x<sup>(i)</sup>)</strong> for every example i and returns the associated predictions. Similar to the one-vs-all classification strategy, the prediction from the neural network will be the <strong>label</strong> that has the <strong>largest output <strong>h<sub>θ</sub>(x)<sub>k</sub></strong></strong>."
   ]
  },
  {
   "cell_type": "markdown",
   "metadata": {},
   "source": [
    "<strong>Implementation Note:</strong> The matrix X contains the examples in rows. When you complete the code, <strong>you will need to add the column of 1’s</strong> to the matrix. The matrices <strong>Theta1 and Theta2 contain the parameters for each unit in rows.</strong> Specifically, the first row of Theta1 corresponds to the first hidden unit in the second layer. <br>\n",
    "You must get <strong>a<sup>(l)</sup></strong> as a column vector.<br><br>\n",
    "You should see that the <strong>accuracy is about 97.5%</strong>."
   ]
  },
  {
   "cell_type": "code",
   "execution_count": 11,
   "metadata": {},
   "outputs": [],
   "source": [
    "# adding column of 1's to x\n",
    "x = np.append(np.ones(shape=(m,1)),x,axis = 1)"
   ]
  },
  {
   "cell_type": "markdown",
   "metadata": {},
   "source": [
    "<strong>h = hypothesis(x,theta)</strong> will compute <strong>sigmoid</strong> function on <strong>θ<sup>T</sup>X</strong> and return a number which <strong>0<=h<=1</strong>.<br>\n",
    "You can use <a href='https://docs.scipy.org/doc/scipy-0.15.1/reference/generated/scipy.special.expit.html'>this</a> library for calculating sigmoid."
   ]
  },
  {
   "cell_type": "code",
   "execution_count": 12,
   "metadata": {},
   "outputs": [],
   "source": [
    "def sigmoid(z):\n",
    "    return 1/(1+np.exp(-z))"
   ]
  },
  {
   "cell_type": "code",
   "execution_count": 13,
   "metadata": {},
   "outputs": [],
   "source": [
    "def lr_hypothesis(x,theta):\n",
    "    return np.dot(x,theta)"
   ]
  },
  {
   "cell_type": "markdown",
   "metadata": {},
   "source": [
    "<strong>predict(theta1, theta2, x):</strong> outputs the predicted label of x given the trained weights of a neural network (theta1, theta2)."
   ]
  },
  {
   "cell_type": "code",
   "execution_count": 14,
   "metadata": {},
   "outputs": [],
   "source": [
    "layers = 3\n",
    "num_labels = 10"
   ]
  },
  {
   "cell_type": "markdown",
   "metadata": {},
   "source": [
    "<strong>Becuase the initial dataset has changed and mapped 0 to \"10\", so the weights also are changed. So we just rotate columns one step to right, to predict correct values.<br>\n",
    "Recall we have changed mapping 0 to \"10\" to 0 to \"0\" but we cannot detect this mapping in weights of neural netwrok. So we have to this rotation on final output of probabilities.</strong>"
   ]
  },
  {
   "cell_type": "code",
   "execution_count": 34,
   "metadata": {},
   "outputs": [],
   "source": [
    "def rotate_column(array):\n",
    "    array_ = np.zeros(shape=(m,num_labels))\n",
    "    temp = np.zeros(num_labels,)\n",
    "    temp= array[:,9]\n",
    "    array_[:,1:10] = array[:,0:9]\n",
    "    array_[:,0] = temp\n",
    "    return array_"
   ]
  },
  {
   "cell_type": "code",
   "execution_count": 35,
   "metadata": {},
   "outputs": [],
   "source": [
    "def predict(theta1,theta2,x):\n",
    "    z2 = np.dot(x,theta1) # hidden layer\n",
    "    a2 = sigmoid(z2) # hidden layer\n",
    "\n",
    "    # adding column of 1's to a2\n",
    "    a2 = np.append(np.ones(shape=(m,1)),a2,axis = 1)\n",
    "    z3 = np.dot(a2,theta2)\n",
    "    a3 = sigmoid(z3)\n",
    "    \n",
    "    # mapping problem. Rotate left one step\n",
    "    y_prob = rotate_column(a3)\n",
    "    \n",
    "    # prediction on activation a2\n",
    "    y_pred = np.argmax(y_prob, axis=1).reshape(-1,1)\n",
    "    return y_pred"
   ]
  },
  {
   "cell_type": "code",
   "execution_count": 36,
   "metadata": {},
   "outputs": [
    {
     "data": {
      "text/plain": [
       "(5000, 1)"
      ]
     },
     "execution_count": 36,
     "metadata": {},
     "output_type": "execute_result"
    }
   ],
   "source": [
    "y_pred = predict(theta1,theta2,x)\n",
    "y_pred.shape"
   ]
  },
  {
   "cell_type": "markdown",
   "metadata": {},
   "source": [
    "Now we will compare our predicted result to the true one with <a href='http://scikit-learn.org/stable/modules/generated/sklearn.metrics.confusion_matrix.html'>confusion_matrix</a> of numpy library."
   ]
  },
  {
   "cell_type": "code",
   "execution_count": 37,
   "metadata": {},
   "outputs": [],
   "source": [
    "from sklearn.metrics import confusion_matrix\n",
    "\n",
    "# Function for accuracy\n",
    "def acc(confusion_matrix):\n",
    "    t = 0\n",
    "    for i in range(num_labels):\n",
    "        t += confusion_matrix[i][i]\n",
    "    f = m-t\n",
    "    ac = t/(m)\n",
    "    return (t,f,ac)"
   ]
  },
  {
   "cell_type": "code",
   "execution_count": 38,
   "metadata": {},
   "outputs": [
    {
     "name": "stdout",
     "output_type": "stream",
     "text": [
      "With #4876 correct, #124 wrong ==========> accuracy = 97.52%\n"
     ]
    }
   ],
   "source": [
    "#import library\n",
    "from sklearn.metrics import confusion_matrix\n",
    "cm_train = confusion_matrix(y.reshape(m,),y_pred.reshape(m,))\n",
    "t,f,ac = acc(cm_train)\n",
    "print('With #{} correct, #{} wrong ==========> accuracy = {}%'\n",
    "          .format(t,f,ac*100))"
   ]
  },
  {
   "cell_type": "code",
   "execution_count": 39,
   "metadata": {},
   "outputs": [
    {
     "data": {
      "text/plain": [
       "array([[496,   0,   0,   0,   1,   0,   1,   0,   1,   1],\n",
       "       [  0, 491,   1,   1,   2,   0,   0,   1,   3,   1],\n",
       "       [  3,   1, 485,   0,   3,   1,   3,   1,   2,   1],\n",
       "       [  0,   2,   2, 480,   0,   8,   1,   4,   1,   2],\n",
       "       [  0,   2,   2,   0, 484,   0,   3,   0,   1,   8],\n",
       "       [  0,   0,   1,   4,   1, 492,   2,   0,   0,   0],\n",
       "       [  2,   2,   0,   0,   0,   3, 493,   0,   0,   0],\n",
       "       [  1,   3,   2,   1,   4,   0,   0, 485,   0,   4],\n",
       "       [  0,   4,   1,   1,   2,   1,   0,   0, 491,   0],\n",
       "       [  3,   2,   0,   4,   2,   1,   1,   5,   3, 479]], dtype=int64)"
      ]
     },
     "execution_count": 39,
     "metadata": {},
     "output_type": "execute_result"
    }
   ],
   "source": [
    "cm_train"
   ]
  }
 ],
 "metadata": {
  "kernelspec": {
   "display_name": "Python 3",
   "language": "python",
   "name": "python3"
  },
  "language_info": {
   "codemirror_mode": {
    "name": "ipython",
    "version": 3
   },
   "file_extension": ".py",
   "mimetype": "text/x-python",
   "name": "python",
   "nbconvert_exporter": "python",
   "pygments_lexer": "ipython3",
   "version": "3.6.6"
  }
 },
 "nbformat": 4,
 "nbformat_minor": 2
}
