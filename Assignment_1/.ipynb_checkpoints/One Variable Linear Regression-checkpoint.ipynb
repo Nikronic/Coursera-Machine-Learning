{
 "cells": [
  {
   "cell_type": "markdown",
   "metadata": {},
   "source": [
    "# Linear regression with one variable\n",
    "In this part of this exercise, you will implement linear regression with one\n",
    "variable to predict profits for a food truck. Suppose you are the CEO of a\n",
    "restaurant franchise and are considering different cities for opening a new\n",
    "outlet. The chain already has trucks in various cities and you have data for\n",
    "profits and populations from the cities.<br>\n",
    "You would like to use this data to help you select which city to expand\n",
    "to next. <br>\n",
    "\n",
    "The file <strong><em>ex1data1.csv</em></strong> contains the dataset for our linear regression problem.<br> \n",
    "1. First Column = <strong>population of a city</strong> \n",
    "2. Second column = <strong>profit of a food truck in that city</strong>\n",
    "\n",
    "A negative value for profit indicates a loss.<br>\n",
    "<br> <br>\n",
    "<strong>\n",
    "Our assignment has these sections:\n",
    "1. Plotting the Data\n",
    "    1. Loading dataset\n",
    "    2. Ploting scatter\n",
    "2. Gradient Descent\n",
    "    1. Update Equations\n",
    "    2. Implementation\n",
    "    3. Computing the cost J(θ)\n",
    "    4. Gradient descent\n",
    "3. Debugging\n",
    "4. Visualization J(θ)\n",
    "    1. Surface\n",
    "    2. Contour\n",
    "</strong>\n",
    "\n",
    "In each section full description provided."
   ]
  },
  {
   "cell_type": "markdown",
   "metadata": {},
   "source": [
    "## 1. Plotting Dataset\n",
    "Before starting on any task, it is often useful to understand the data by visualizing it. For this dataset, you can use a scatter plot to visualize the data, since it has only two properties to plot (profit and population). (Many other problems that you will encounter in real life are multi-dimensional and can’t be plotted on a<br> 2-d plot.)"
   ]
  },
  {
   "cell_type": "markdown",
   "metadata": {},
   "source": [
    "### 1.A Loading Dataset\n",
    "We just need to import our data in file to a good structrue to work on it. So best option for us in python is <strong>Pandas</Strong>."
   ]
  },
  {
   "cell_type": "code",
   "execution_count": 5,
   "metadata": {},
   "outputs": [
    {
     "data": {
      "text/html": [
       "<div>\n",
       "<style scoped>\n",
       "    .dataframe tbody tr th:only-of-type {\n",
       "        vertical-align: middle;\n",
       "    }\n",
       "\n",
       "    .dataframe tbody tr th {\n",
       "        vertical-align: top;\n",
       "    }\n",
       "\n",
       "    .dataframe thead th {\n",
       "        text-align: right;\n",
       "    }\n",
       "</style>\n",
       "<table border=\"1\" class=\"dataframe\">\n",
       "  <thead>\n",
       "    <tr style=\"text-align: right;\">\n",
       "      <th></th>\n",
       "      <th>population</th>\n",
       "      <th>profit</th>\n",
       "    </tr>\n",
       "  </thead>\n",
       "  <tbody>\n",
       "    <tr>\n",
       "      <th>0</th>\n",
       "      <td>6.1101</td>\n",
       "      <td>17.5920</td>\n",
       "    </tr>\n",
       "    <tr>\n",
       "      <th>1</th>\n",
       "      <td>5.5277</td>\n",
       "      <td>9.1302</td>\n",
       "    </tr>\n",
       "    <tr>\n",
       "      <th>2</th>\n",
       "      <td>8.5186</td>\n",
       "      <td>13.6620</td>\n",
       "    </tr>\n",
       "    <tr>\n",
       "      <th>3</th>\n",
       "      <td>7.0032</td>\n",
       "      <td>11.8540</td>\n",
       "    </tr>\n",
       "    <tr>\n",
       "      <th>4</th>\n",
       "      <td>5.8598</td>\n",
       "      <td>6.8233</td>\n",
       "    </tr>\n",
       "  </tbody>\n",
       "</table>\n",
       "</div>"
      ],
      "text/plain": [
       "   population   profit\n",
       "0      6.1101  17.5920\n",
       "1      5.5277   9.1302\n",
       "2      8.5186  13.6620\n",
       "3      7.0032  11.8540\n",
       "4      5.8598   6.8233"
      ]
     },
     "execution_count": 5,
     "metadata": {},
     "output_type": "execute_result"
    }
   ],
   "source": [
    "# import library\n",
    "import pandas as pd\n",
    "dataset = pd.read_csv('ex1data1.csv',names = ['population','profit'])\n",
    "dataset.head()"
   ]
  },
  {
   "cell_type": "code",
   "execution_count": 7,
   "metadata": {},
   "outputs": [
    {
     "name": "stdout",
     "output_type": "stream",
     "text": [
      "x[0] =6.1101, y[0] =17.592\n",
      "number of training examples = 97\n"
     ]
    }
   ],
   "source": [
    "# splitting to x and y variables for features and target variable\n",
    "x = dataset.iloc[:,0]\n",
    "y = dataset.iloc[:,1]\n",
    "print('x[0] ={}, y[0] ={}'.format(x[0],y[0]))\n",
    "print('number of training examples = {}'.format(len(x)))"
   ]
  },
  {
   "cell_type": "markdown",
   "metadata": {},
   "source": [
    "### 1.B Plotting Scatter\n",
    "In this step we plot our data in 2D surface."
   ]
  },
  {
   "cell_type": "code",
   "execution_count": 11,
   "metadata": {},
   "outputs": [
    {
     "data": {
      "image/png": "[encoded data removed]",
      "text/plain": [
       "<Figure size 432x288 with 1 Axes>"
      ]
     },
     "metadata": {},
     "output_type": "display_data"
    }
   ],
   "source": [
    "#import library\n",
    "import matplotlib.pyplot as plt\n",
    "%matplotlib inline\n",
    "# visualize our data\n",
    "plt.scatter(x,y, color ='red', label='Train Values')\n",
    "plt.title('Population vs. Profit')\n",
    "plt.xlabel('Population (in 10000s)')\n",
    "plt.ylabel('Profit (in $10000s)')\n",
    "plt.legend()\n",
    "plt.grid()\n",
    "plt.show()\n"
   ]
  },
  {
   "cell_type": "markdown",
   "metadata": {},
   "source": [
    "## 2. Gradinet Descent\n",
    "In this part, you will fit the linear regression parameters θ to our dataset\n",
    "using gradient descent."
   ]
  },
  {
   "cell_type": "code",
   "execution_count": null,
   "metadata": {},
   "outputs": [],
   "source": []
  }
 ],
 "metadata": {
  "kernelspec": {
   "display_name": "Python 3",
   "language": "python",
   "name": "python3"
  },
  "language_info": {
   "codemirror_mode": {
    "name": "ipython",
    "version": 3
   },
   "file_extension": ".py",
   "mimetype": "text/x-python",
   "name": "python",
   "nbconvert_exporter": "python",
   "pygments_lexer": "ipython3",
   "version": "3.6.6"
  }
 },
 "nbformat": 4,
 "nbformat_minor": 2
}
