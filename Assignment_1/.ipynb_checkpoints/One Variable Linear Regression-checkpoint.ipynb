{
 "cells": [
  {
   "cell_type": "markdown",
   "metadata": {},
   "source": [
    "# Linear regression with one variable\n",
    "In this part of this exercise, you will implement linear regression with one\n",
    "variable to predict profits for a food truck. Suppose you are the CEO of a\n",
    "restaurant franchise and are considering different cities for opening a new\n",
    "outlet. The chain already has trucks in various cities and you have data for\n",
    "profits and populations from the cities.<br>\n",
    "You would like to use this data to help you select which city to expand\n",
    "to next. <br>\n",
    "\n",
    "The file <strong><em>ex1data1.csv</em></strong> contains the dataset for our linear regression problem.<br> \n",
    "1. First Column = <strong>population of a city</strong> \n",
    "2. Second column = <strong>profit of a food truck in that city</strong>\n",
    "\n",
    "A negative value for profit indicates a loss.<br>\n",
    "<br> <br>\n",
    "<strong>\n",
    "Our assignment has these sections:\n",
    "1. Plotting the Data\n",
    "    1. Loading dataset\n",
    "    2. Ploting scatter\n",
    "2. Gradient Descent\n",
    "    1. Update Equations\n",
    "    2. Implementation\n",
    "    3. Computing the cost J(θ)\n",
    "    4. Gradient descent\n",
    "    5. Visualization of Fitted Model\n",
    "3. Debugging\n",
    "4. Visualization J(θ)\n",
    "    1. Surface\n",
    "    2. Contour\n",
    "</strong>\n",
    "\n",
    "In each section full description provided."
   ]
  },
  {
   "cell_type": "markdown",
   "metadata": {},
   "source": [
    "## 1. Plotting Dataset\n",
    "Before starting on any task, it is often useful to understand the data by visualizing it. For this dataset, you can use a scatter plot to visualize the data, since it has only two properties to plot (profit and population). (Many other problems that you will encounter in real life are multi-dimensional and can’t be plotted on a<br> 2-d plot.)"
   ]
  },
  {
   "cell_type": "markdown",
   "metadata": {},
   "source": [
    "### 1.A Loading Dataset\n",
    "We just need to import our data in file to a good structrue to work on it. So best option for us in python is <strong>Pandas</Strong>."
   ]
  },
  {
   "cell_type": "code",
   "execution_count": 127,
   "metadata": {},
   "outputs": [
    {
     "data": {
      "text/html": [
       "<div>\n",
       "<style scoped>\n",
       "    .dataframe tbody tr th:only-of-type {\n",
       "        vertical-align: middle;\n",
       "    }\n",
       "\n",
       "    .dataframe tbody tr th {\n",
       "        vertical-align: top;\n",
       "    }\n",
       "\n",
       "    .dataframe thead th {\n",
       "        text-align: right;\n",
       "    }\n",
       "</style>\n",
       "<table border=\"1\" class=\"dataframe\">\n",
       "  <thead>\n",
       "    <tr style=\"text-align: right;\">\n",
       "      <th></th>\n",
       "      <th>population</th>\n",
       "      <th>profit</th>\n",
       "    </tr>\n",
       "  </thead>\n",
       "  <tbody>\n",
       "    <tr>\n",
       "      <th>0</th>\n",
       "      <td>6.1101</td>\n",
       "      <td>17.5920</td>\n",
       "    </tr>\n",
       "    <tr>\n",
       "      <th>1</th>\n",
       "      <td>5.5277</td>\n",
       "      <td>9.1302</td>\n",
       "    </tr>\n",
       "    <tr>\n",
       "      <th>2</th>\n",
       "      <td>8.5186</td>\n",
       "      <td>13.6620</td>\n",
       "    </tr>\n",
       "    <tr>\n",
       "      <th>3</th>\n",
       "      <td>7.0032</td>\n",
       "      <td>11.8540</td>\n",
       "    </tr>\n",
       "    <tr>\n",
       "      <th>4</th>\n",
       "      <td>5.8598</td>\n",
       "      <td>6.8233</td>\n",
       "    </tr>\n",
       "  </tbody>\n",
       "</table>\n",
       "</div>"
      ],
      "text/plain": [
       "   population   profit\n",
       "0      6.1101  17.5920\n",
       "1      5.5277   9.1302\n",
       "2      8.5186  13.6620\n",
       "3      7.0032  11.8540\n",
       "4      5.8598   6.8233"
      ]
     },
     "execution_count": 127,
     "metadata": {},
     "output_type": "execute_result"
    }
   ],
   "source": [
    "# import library\n",
    "import pandas as pd\n",
    "dataset = pd.read_csv('ex1data1.csv',names = ['population','profit'])\n",
    "dataset.head()"
   ]
  },
  {
   "cell_type": "code",
   "execution_count": 157,
   "metadata": {},
   "outputs": [
    {
     "name": "stdout",
     "output_type": "stream",
     "text": [
      "x[0] =6.1101, y[0] =17.592\n",
      "number of training examples = 97\n"
     ]
    }
   ],
   "source": [
    "# splitting to x and y variables for features and target variable\n",
    "x = dataset.iloc[:,0].values\n",
    "y = dataset.iloc[:,1].values\n",
    "print('x[0] ={}, y[0] ={}'.format(x[0],y[0]))\n",
    "print('number of training examples = {}'.format(len(x)))"
   ]
  },
  {
   "cell_type": "markdown",
   "metadata": {},
   "source": [
    "### 1.B Plotting Scatter\n",
    "In this step we plot our data in 2D surface."
   ]
  },
  {
   "cell_type": "code",
   "execution_count": 158,
   "metadata": {},
   "outputs": [
    {
     "data": {
      "image/png": "[encoded data removed]",
      "text/plain": [
       "<Figure size 432x288 with 1 Axes>"
      ]
     },
     "metadata": {},
     "output_type": "display_data"
    }
   ],
   "source": [
    "#import library\n",
    "import matplotlib.pyplot as plt\n",
    "%matplotlib inline\n",
    "# visualize our data\n",
    "plt.scatter(x,y, color ='red', label='Train Values')\n",
    "plt.title('Population vs. Profit')\n",
    "plt.xlabel('Population (in 10000s)')\n",
    "plt.ylabel('Profit (in $10000s)')\n",
    "plt.legend()\n",
    "plt.grid()\n",
    "plt.show()\n"
   ]
  },
  {
   "cell_type": "markdown",
   "metadata": {},
   "source": [
    "## 2. Gradinet Descent\n",
    "In this part, you will fit the linear regression parameters θ to our dataset\n",
    "using gradient descent."
   ]
  },
  {
   "attachments": {},
   "cell_type": "markdown",
   "metadata": {},
   "source": [
    "### 2.A Update Equation\n",
    "The objective of linear regression is to minimize the cost function: <img src='img/j.jpg'>\n",
    "where the hypothesis hθ(x) is given by the linear model: <img src='img/h.jpg'>\n",
    "Recall that the parameters of your model are the θj values. These are the values you will adjust to minimize cost J(θ). One way to do this is to use the batch gradient descent algorithm. In batch gradient descent, each iteration performs the update: !<img src='img/thta.jpg'><br>\n",
    "With each step of gradient descent, your parameters θj come closer to the optimal values that will achieve the lowest cost J(θ).<br>"
   ]
  },
  {
   "cell_type": "markdown",
   "metadata": {},
   "source": [
    "### 2.B Implementation\n",
    "<strong>Implementation Note:</strong> We store each example as a row in the the <strong>x</strong> matrix in python. To take into account the intercept term <strong>(θ<sub>0</sub>)</strong>, we add an additional first column to <strong>x</strong> and set it to all <strong>ones</strong>. This allows us to treat <strong>(θ<sub>0</sub>)</strong> as simply another <strong>feature</strong>.<br><br>\n",
    "In the following lines, we add another dimension to our data to accommodate the <strong>(θ<sub>0</sub>)</strong> intercept term. We also initialize the <strong>initial parameters to 0</strong> and the learning rate <strong>alpha to 0.01</strong>."
   ]
  },
  {
   "cell_type": "code",
   "execution_count": 159,
   "metadata": {},
   "outputs": [],
   "source": [
    "# import library\n",
    "import numpy as np\n",
    "\n",
    "# appending ones to our x \n",
    "z = np.ones((len(x),1))\n",
    "x = np.reshape(x,(-1,1))\n",
    "x = np.append(z,x,axis =1)"
   ]
  },
  {
   "cell_type": "code",
   "execution_count": 160,
   "metadata": {},
   "outputs": [
    {
     "name": "stdout",
     "output_type": "stream",
     "text": [
      "x.shape = (97, 2), x[0] = [ 1.      6.1101]\n"
     ]
    }
   ],
   "source": [
    "print('x.shape = {}, x[0] = {}'.format(x.shape,x[0]))"
   ]
  },
  {
   "cell_type": "code",
   "execution_count": 175,
   "metadata": {},
   "outputs": [],
   "source": [
    "# n is the number of features and m is the number of samples of training set\n",
    "n = x.shape[1]\n",
    "m = x.shape[0]\n",
    "\n",
    "# define theta as zero\n",
    "theta = np.zeros(n)\n",
    "theta = theta.reshape(len(theta),1)\n",
    "y = y.reshape(len(y),1)\n",
    "\n",
    "# iterations to update theta and minimize J\n",
    "iterations = 1500\n",
    "\n",
    "# alpha the learning rate in gradient descent update formula\n",
    "alpha = 0.01"
   ]
  },
  {
   "cell_type": "markdown",
   "metadata": {},
   "source": [
    "### 2.C Compute Cost J(θ)\n",
    "As you perform gradient descent to learn minimize the cost function J(θ), it is helpful to monitor the convergence by computing the cost. In this section, you will implement a function to calculate J(θ) so you can check the convergence of your gradient descent implementation.\n",
    "\n",
    "<strong>compute_cost(x, y, theta)</strong> computes the cost of using theta as the parameter for linear regression to fit the data points in x and y.\n",
    "To calculate this function, we need hypothesis <strong>h<sub>θ</sub>(x)</strong> as mentioned in the previous section."
   ]
  },
  {
   "cell_type": "code",
   "execution_count": 176,
   "metadata": {},
   "outputs": [],
   "source": [
    "def hypothesis(x,theta):\n",
    "    return np.dot(x,theta)"
   ]
  },
  {
   "cell_type": "code",
   "execution_count": 177,
   "metadata": {},
   "outputs": [],
   "source": [
    "def compute_cost(x, y, theta):\n",
    "    loss = hypothesis(x,theta)-y\n",
    "    cost = np.sum(loss ** 2)/(2*m)\n",
    "    return cost,loss"
   ]
  },
  {
   "cell_type": "code",
   "execution_count": 179,
   "metadata": {},
   "outputs": [
    {
     "data": {
      "text/plain": [
       "32.072733877455676"
      ]
     },
     "execution_count": 179,
     "metadata": {},
     "output_type": "execute_result"
    }
   ],
   "source": [
    "# in this step, in the doc, they say the value should be 32.07, but it is impossible and 3111.0551 is the correct value\n",
    "compute_cost(x,y,theta)[0]"
   ]
  },
  {
   "cell_type": "markdown",
   "metadata": {},
   "source": [
    "### 2.D Gradient Descent\n",
    "Keep in mind that the cost <strong>J(θ)</strong> is parameterized by the vector <strong>θ</strong>, not <strong>x</strong> and <strong>y</strong>. That is, we minimize the value of <strong>J(θ)</strong> by changing the values of the vector <strong>θ</strong>, not by changing <strong>x</strong> or <strong>y</strong>.\n",
    "A good way to verify that gradient descent is working correctly is to look at the value of <strong>J(θ)</strong> and check that it is decreasing with each step and your value of <strong>J(θ)</strong> should never increase, and should converge to a steady value by the end of the algorithm.\n",
    "\n",
    "<strong>gradient_descent(x, y, theta, alpha, iterations)</strong> updates theta by taking iterations gradient steps with learning rate alpha."
   ]
  },
  {
   "cell_type": "code",
   "execution_count": 191,
   "metadata": {},
   "outputs": [],
   "source": [
    "def gradient_descent(x,x_tran,y,theta,alpha,iterations):\n",
    "    for i in range(iterations):\n",
    "        cost,loss = compute_cost(x,y,theta)\n",
    "        if (i%50 == 0):\n",
    "            print('Iteration #{} ====== cost = {}\\n'.format(i,cost))\n",
    "        gradient = np.dot(x_tran,(loss))\n",
    "        theta = theta - alpha*(gradient/m)\n",
    "    return theta"
   ]
  },
  {
   "cell_type": "code",
   "execution_count": 196,
   "metadata": {},
   "outputs": [
    {
     "name": "stdout",
     "output_type": "stream",
     "text": [
      "Iteration #0 ====== cost = 32.072733877455676\n",
      "\n",
      "Iteration #50 ====== cost = 5.678292570015292\n",
      "\n",
      "Iteration #100 ====== cost = 5.479975580535112\n",
      "\n",
      "Iteration #150 ====== cost = 5.3143972362329235\n",
      "\n",
      "Iteration #200 ====== cost = 5.176152962891966\n",
      "\n",
      "Iteration #250 ====== cost = 5.060730386394342\n",
      "\n",
      "Iteration #300 ====== cost = 4.964362046184745\n",
      "\n",
      "Iteration #350 ====== cost = 4.883902423149523\n",
      "\n",
      "Iteration #400 ====== cost = 4.816725268028978\n",
      "\n",
      "Iteration #450 ====== cost = 4.760637879102053\n",
      "\n",
      "Iteration #500 ====== cost = 4.713809531116866\n",
      "\n",
      "Iteration #550 ====== cost = 4.674711719345328\n",
      "\n",
      "Iteration #600 ====== cost = 4.642068268292856\n",
      "\n",
      "Iteration #650 ====== cost = 4.6148136765821555\n",
      "\n",
      "Iteration #700 ====== cost = 4.592058338363686\n",
      "\n",
      "Iteration #750 ====== cost = 4.573059506059272\n",
      "\n",
      "Iteration #800 ====== cost = 4.557197046645756\n",
      "\n",
      "Iteration #850 ====== cost = 4.543953200149625\n",
      "\n",
      "Iteration #900 ====== cost = 4.532895679657962\n",
      "\n",
      "Iteration #950 ====== cost = 4.523663561220222\n",
      "\n",
      "Iteration #1000 ====== cost = 4.515955503078912\n",
      "\n",
      "Iteration #1050 ====== cost = 4.509519909697991\n",
      "\n",
      "Iteration #1100 ====== cost = 4.504146719537086\n",
      "\n",
      "Iteration #1150 ====== cost = 4.49966054851969\n",
      "\n",
      "Iteration #1200 ====== cost = 4.495914965394088\n",
      "\n",
      "Iteration #1250 ====== cost = 4.492787712131476\n",
      "\n",
      "Iteration #1300 ====== cost = 4.490176713352229\n",
      "\n",
      "Iteration #1350 ====== cost = 4.487996744525673\n",
      "\n",
      "Iteration #1400 ====== cost = 4.48617665019146\n",
      "\n",
      "Iteration #1450 ====== cost = 4.484657021403614\n",
      "\n",
      "Iteration #1500 ====== cost = 4.483388256587726\n",
      "\n"
     ]
    }
   ],
   "source": [
    "x_transposed = x.transpose()\n",
    "theta = gradient_descent(x,x_transposed,y,theta,alpha,iterations+1)"
   ]
  },
  {
   "cell_type": "markdown",
   "metadata": {},
   "source": [
    "Our final values for <strong>θ</strong> will also be used to make predictions on profits in areas of <strong>35,000</strong> and <strong>70,000</strong> people."
   ]
  },
  {
   "cell_type": "code",
   "execution_count": 199,
   "metadata": {},
   "outputs": [
    {
     "name": "stdout",
     "output_type": "stream",
     "text": [
      "profit prediction on 35000 people = [ 0.45166649], profit prediction on 75000 people = [ 4.53410299]\n"
     ]
    }
   ],
   "source": [
    "# make prediction\n",
    "predict_1 = np.dot([1,3.5],theta)\n",
    "predict_2 = np.dot([1,7],theta)\n",
    "print('profit prediction on 35000 people = {}, profit prediction on 75000 people = {}'.format(predict_1,predict_2))"
   ]
  },
  {
   "cell_type": "markdown",
   "metadata": {},
   "source": [
    "### 2.E Visualization of Fitted Model\n",
    "In this step we visualize our predicted data beside other data and our fitted model which is linear based on linear regression.\n",
    "We can see our model predicted very good."
   ]
  },
  {
   "cell_type": "code",
   "execution_count": 229,
   "metadata": {},
   "outputs": [
    {
     "data": {
      "image/png": "[encoded data removed]",
      "text/plain": [
       "<Figure size 432x288 with 1 Axes>"
      ]
     },
     "metadata": {},
     "output_type": "display_data"
    }
   ],
   "source": [
    "# visualize our data with predicted values\n",
    "plt.scatter(x[:,1].reshape(len(x),1),y, color ='red', label='Train Values', marker='x')\n",
    "plt.scatter([3.5,7.5],[predict_1,predict_2], label = 'predicted',marker='D')\n",
    "plt.title('Population vs. Profit')\n",
    "plt.xlabel('Population (in 10000s)')\n",
    "plt.ylabel('Profit (in $10000s)')\n",
    "plt.legend()\n",
    "plt.grid()\n",
    "plt.show()"
   ]
  },
  {
   "cell_type": "markdown",
   "metadata": {},
   "source": [
    "Now we visualize our fitted model which is linear regression.\n",
    "You can see our predicted data is on the line."
   ]
  },
  {
   "cell_type": "code",
   "execution_count": 228,
   "metadata": {},
   "outputs": [
    {
     "data": {
      "image/png": "[encoded data removed]",
      "text/plain": [
       "<Figure size 432x288 with 1 Axes>"
      ]
     },
     "metadata": {},
     "output_type": "display_data"
    }
   ],
   "source": [
    "# visualize our data with predicted values\n",
    "plt.scatter(x[:,1].reshape(len(x),1),y, color ='red', label='Train Values',alpha =0.6, marker = 'x')\n",
    "plt.scatter([3.5,7.5],[predict_1,predict_2], label = 'predicted', alpha = 1,marker='D')\n",
    "plt.plot(x[:,1].reshape(len(x),1),np.dot(x,theta),label = 'fitted model',color = 'green')\n",
    "plt.title('Population vs. Profit')\n",
    "plt.xlabel('Population (in 10000s)')\n",
    "plt.ylabel('Profit (in $10000s)')\n",
    "plt.legend()\n",
    "plt.grid()\n",
    "plt.show()"
   ]
  },
  {
   "cell_type": "code",
   "execution_count": null,
   "metadata": {},
   "outputs": [],
   "source": []
  }
 ],
 "metadata": {
  "kernelspec": {
   "display_name": "Python 3",
   "language": "python",
   "name": "python3"
  },
  "language_info": {
   "codemirror_mode": {
    "name": "ipython",
    "version": 3
   },
   "file_extension": ".py",
   "mimetype": "text/x-python",
   "name": "python",
   "nbconvert_exporter": "python",
   "pygments_lexer": "ipython3",
   "version": "3.6.6"
  }
 },
 "nbformat": 4,
 "nbformat_minor": 2
}
