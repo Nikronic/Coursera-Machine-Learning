{
 "cells": [
  {
   "cell_type": "markdown",
   "metadata": {},
   "source": [
    "# Linear Regression with Multiple Variable\n",
    "In this part, you will implement linear regression with multiple variables to predict the prices of houses. Suppose you are selling your house and you want to know what a good market price would be. One way to do this is to first collect information on recent houses sold and make a model of housing prices.<br>\n",
    "\n",
    "The file <strong><em>ex1data2.csv</em></strong> contains a training set of housing prices in Portland, Oregon.<br>\n",
    "The structure of the dataset described blow:<br>\n",
    "1. First column = <strong>size of the house (in square feet)</strong> \n",
    "2. Second column = <strong>number of bedrooms</strong>\n",
    "3. Third column = <strong>price of the house</strong>\n",
    "\n",
    "A negative value for profit indicates a loss.<br>\n",
    "<br> <br>\n",
    "<strong>\n",
    "Our assignment has these sections:\n",
    "1. Plotting the Data\n",
    "    1. Loading dataset\n",
    "    2. Ploting scatter\n",
    "2. Feature Normalization\n",
    "3. Gradient Descent\n",
    "    1. Update Equations\n",
    "    2. Implementation\n",
    "    3. Computing the cost J(θ)\n",
    "    4. Selecting Learning Rates (alpha)\n",
    "    5. Gradient descent\n",
    "    6. Visualization of Fitted Model\n",
    "4. Normal Equations\n",
    "5. Visualization J(θ)\n",
    "    1. Surface\n",
    "    2. Contour\n",
    "</strong>\n",
    "\n",
    "In each section full description provided."
   ]
  },
  {
   "cell_type": "code",
   "execution_count": null,
   "metadata": {},
   "outputs": [],
   "source": []
  }
 ],
 "metadata": {
  "kernelspec": {
   "display_name": "Python 3",
   "language": "python",
   "name": "python3"
  },
  "language_info": {
   "codemirror_mode": {
    "name": "ipython",
    "version": 3
   },
   "file_extension": ".py",
   "mimetype": "text/x-python",
   "name": "python",
   "nbconvert_exporter": "python",
   "pygments_lexer": "ipython3",
   "version": "3.6.6"
  }
 },
 "nbformat": 4,
 "nbformat_minor": 2
}
