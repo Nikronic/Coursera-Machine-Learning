{
 "cells": [
  {
   "cell_type": "markdown",
   "metadata": {},
   "source": [
    "# Regularized Linear Regression\n",
    "\n",
    "In the first half of the exercise, you will implement regularized linear regression to predict the amount of water flowing out of a dam using the change of water level in a reservoir. In the next half, you will go through some **diagnostics of debugging learning algorithms** and examine the **effects of bias v.s. variance.**<br><br>\n",
    "In the following parts, you will implement linear regression and use that to fit a **straight line** to the data and plot learning curves. Following that, you will implement **polynomial regression** to find a **better fit** to the data.\n",
    "\n",
    "The file <strong><em>ex5data1</em></strong> contains a data set which includes train set, test set, validation set.<br>\n",
    "The structure of the dataset described blow:<br>\n",
    "1. x = **Water level (a single feature)**\n",
    "2. y = **Value of flowed water**\n",
    "3. xval = **x validation set**\n",
    "4. yval = **y validation set**\n",
    "5. xtest = **x test set**\n",
    "6. ytest = **y test set**\n",
    "\n",
    "\n",
    "<br><br>\n",
    "<strong>\n",
    "Our assignment has these sections:\n",
    "1. Visualizing the Data\n",
    "    1. Converting .mat to .csv\n",
    "    2. Loading Dataset\n",
    "    3. Visualizing The Dataset\n",
    "2. Regularized Linear Regression Cost Function\n",
    "    1. Implementation\n",
    "    2. Test Cost Function\n",
    "3. Regularized Linear Regression Gradient\n",
    "    1. Implementation\n",
    "    2. Test Gradient Function\n",
    "4. Fitting Linear Regression\n",
    "    1. Implementation\n",
    "    2. Visualziation of Fitted Model\n",
    "5. Bias-variance\n",
    "    1. Learning Curves\n",
    "    2. \n",
    "    \n",
    "</strong>\n",
    "\n",
    "In each section full description provided."
   ]
  },
  {
   "cell_type": "markdown",
   "metadata": {},
   "source": [
    "## 1. Visualizing the Dataset\n",
    "Before starting on any task, it is often useful to understand the data by visualizing it.<br>"
   ]
  },
  {
   "cell_type": "markdown",
   "metadata": {},
   "source": [
    "### 1.A Converting .mat to .csv\n",
    "In this specific assignment, the instructor added a .mat file as training set and weights of trained neural network. But we have to convert it to .csv to use in python.<br>\n",
    "After all we now ready to import our new csv files to pandas dataframes and do preprocessing on it and make it ready for next steps."
   ]
  },
  {
   "cell_type": "code",
   "execution_count": 1,
   "metadata": {},
   "outputs": [],
   "source": [
    "# import libraries\n",
    "import scipy.io\n",
    "import numpy as np\n",
    "\n",
    "data = scipy.io.loadmat(\"ex5data1\")"
   ]
  },
  {
   "cell_type": "markdown",
   "metadata": {},
   "source": [
    "Now we **extract** `x`, `y`, `xval`, `yval`, `xtest` and `ytest`</strong> variables from the .mat file and save them into .csv file for further usage. After running the below code you should see:\n",
    "1. X.csv\n",
    "2. y.csv \n",
    "3. Xtest.csv\n",
    "4. ytest.csv\n",
    "5. Xval.csv\n",
    "6. yval.csv\n",
    "\n",
    "files in your directory."
   ]
  },
  {
   "cell_type": "code",
   "execution_count": 2,
   "metadata": {},
   "outputs": [],
   "source": [
    "for i in data:\n",
    "    if '__' not in i and 'readme' not in i:\n",
    "        np.savetxt((i+\".csv\"),data[i],delimiter=',')"
   ]
  },
  {
   "cell_type": "markdown",
   "metadata": {},
   "source": [
    "### 1.B Loading Dataset\n",
    "First we import .csv files into pandas dataframes then save them into numpy arrays.<br><br>"
   ]
  },
  {
   "cell_type": "code",
   "execution_count": 3,
   "metadata": {},
   "outputs": [],
   "source": [
    "# import library\n",
    "import pandas as pd\n",
    "\n",
    "# saving .csv files to pandas dataframes\n",
    "x_df = pd.read_csv('X.csv',names= ['x'])\n",
    "xtest_df = pd.read_csv('Xtest.csv',names= ['xtest'])\n",
    "xval_df = pd.read_csv('Xval.csv',names= ['xval'])\n",
    "y_df = pd.read_csv('y.csv',names=['y'])\n",
    "ytest_df = pd.read_csv('ytest.csv',names= ['ytest'])\n",
    "yval_df = pd.read_csv('yval.csv',names= ['yval'])"
   ]
  },
  {
   "cell_type": "code",
   "execution_count": 4,
   "metadata": {},
   "outputs": [
    {
     "data": {
      "text/html": [
       "<div>\n",
       "<style scoped>\n",
       "    .dataframe tbody tr th:only-of-type {\n",
       "        vertical-align: middle;\n",
       "    }\n",
       "\n",
       "    .dataframe tbody tr th {\n",
       "        vertical-align: top;\n",
       "    }\n",
       "\n",
       "    .dataframe thead th {\n",
       "        text-align: right;\n",
       "    }\n",
       "</style>\n",
       "<table border=\"1\" class=\"dataframe\">\n",
       "  <thead>\n",
       "    <tr style=\"text-align: right;\">\n",
       "      <th></th>\n",
       "      <th>x</th>\n",
       "    </tr>\n",
       "  </thead>\n",
       "  <tbody>\n",
       "    <tr>\n",
       "      <th>0</th>\n",
       "      <td>-15.936758</td>\n",
       "    </tr>\n",
       "    <tr>\n",
       "      <th>1</th>\n",
       "      <td>-29.152979</td>\n",
       "    </tr>\n",
       "    <tr>\n",
       "      <th>2</th>\n",
       "      <td>36.189549</td>\n",
       "    </tr>\n",
       "  </tbody>\n",
       "</table>\n",
       "</div>"
      ],
      "text/plain": [
       "           x\n",
       "0 -15.936758\n",
       "1 -29.152979\n",
       "2  36.189549"
      ]
     },
     "execution_count": 4,
     "metadata": {},
     "output_type": "execute_result"
    }
   ],
   "source": [
    "x_df.head(3)"
   ]
  },
  {
   "cell_type": "code",
   "execution_count": 5,
   "metadata": {},
   "outputs": [
    {
     "data": {
      "text/html": [
       "<div>\n",
       "<style scoped>\n",
       "    .dataframe tbody tr th:only-of-type {\n",
       "        vertical-align: middle;\n",
       "    }\n",
       "\n",
       "    .dataframe tbody tr th {\n",
       "        vertical-align: top;\n",
       "    }\n",
       "\n",
       "    .dataframe thead th {\n",
       "        text-align: right;\n",
       "    }\n",
       "</style>\n",
       "<table border=\"1\" class=\"dataframe\">\n",
       "  <thead>\n",
       "    <tr style=\"text-align: right;\">\n",
       "      <th></th>\n",
       "      <th>y</th>\n",
       "    </tr>\n",
       "  </thead>\n",
       "  <tbody>\n",
       "    <tr>\n",
       "      <th>0</th>\n",
       "      <td>2.134311</td>\n",
       "    </tr>\n",
       "    <tr>\n",
       "      <th>1</th>\n",
       "      <td>1.173257</td>\n",
       "    </tr>\n",
       "    <tr>\n",
       "      <th>2</th>\n",
       "      <td>34.359109</td>\n",
       "    </tr>\n",
       "  </tbody>\n",
       "</table>\n",
       "</div>"
      ],
      "text/plain": [
       "           y\n",
       "0   2.134311\n",
       "1   1.173257\n",
       "2  34.359109"
      ]
     },
     "execution_count": 5,
     "metadata": {},
     "output_type": "execute_result"
    }
   ],
   "source": [
    "y_df.head(3)"
   ]
  },
  {
   "cell_type": "markdown",
   "metadata": {},
   "source": [
    "Now we convert all **pandas dataframes** to **numpy arrays** for calculations."
   ]
  },
  {
   "cell_type": "code",
   "execution_count": 6,
   "metadata": {},
   "outputs": [
    {
     "name": "stdout",
     "output_type": "stream",
     "text": [
      "#12 Number of training samples, #1 features per sample\n",
      "#21 Number of validation samples, #1 features per sample\n",
      "#21 Number of test samples, #1 features per sample\n"
     ]
    }
   ],
   "source": [
    "# saving x, y, xval, yval, xtest and ytest into numpy arrays\n",
    "x = x_df.iloc[:,:].values\n",
    "xval = xval_df.iloc[:,:].values\n",
    "xtest = xtest_df.iloc[:,:].values\n",
    "\n",
    "y = y_df.iloc[:,:].values\n",
    "yval = yval_df.iloc[:,:].values\n",
    "ytest = ytest_df.iloc[:,:].values\n",
    "\n",
    "# number of examples and number of features\n",
    "m, n = x.shape\n",
    "\n",
    "# add 1's to the features of x as bias\n",
    "x = np.append(np.ones(shape=(m,1)),x,axis = 1)\n",
    "xval = np.append(np.ones(shape=(xval.shape[0],1)),xval,axis = 1)\n",
    "xtest = np.append(np.ones(shape=(xtest.shape[0],1)),xtest,axis = 1)\n",
    "\n",
    "\n",
    "\n",
    "m_val = xval.shape[0]\n",
    "m_test = xtest.shape[0]\n",
    "\n",
    "print('#{} Number of training samples, #{} features per sample'.format(m,n))\n",
    "print('#{} Number of validation samples, #{} features per sample'.format(m_val,n))\n",
    "print('#{} Number of test samples, #{} features per sample'.format(m_test,n))"
   ]
  },
  {
   "cell_type": "code",
   "execution_count": 7,
   "metadata": {},
   "outputs": [],
   "source": [
    "# define some hypter parameters\n",
    "\n",
    "# define theta as zero\n",
    "theta = None\n",
    "\n",
    "# define hyperparameter λ\n",
    "lambda_ = None\n",
    "\n",
    "# reshape (-1,1) because we just have one feature in y column\n",
    "y = y.reshape(-1,1)"
   ]
  },
  {
   "cell_type": "markdown",
   "metadata": {},
   "source": [
    "### 1.C Ploting Dataset\n",
    "We will begin by visualizing the dataset containing historical records on **the change in the water level**, `x`, and **the amount of water flowing out of the dam**, `y`.<br><br>\n",
    "This dataset is divided into three parts:<br>\n",
    "    • A **training set** that your model will learn on: `x`, `y`<br>\n",
    "    • A **cross validation set** for determining the regularization parameter: `xval`, `yval`<br>\n",
    "    • A **test set** for evaluating performance. These are **\"unseen\" examples** which your model did not see during training: `xtest`, `ytest`<br>"
   ]
  },
  {
   "cell_type": "code",
   "execution_count": 8,
   "metadata": {},
   "outputs": [
    {
     "data": {
      "image/png": "[encoded data removed]",
      "text/plain": [
       "<Figure size 432x288 with 1 Axes>"
      ]
     },
     "metadata": {},
     "output_type": "display_data"
    }
   ],
   "source": [
    "# import libraries\n",
    "import matplotlib.pyplot as plt\n",
    "%matplotlib inline\n",
    "\n",
    "plt.scatter(x[:,1], y, color='red', marker='x')\n",
    "plt.title('Training Set')\n",
    "plt.xlabel('Change in water level (x)')\n",
    "plt.ylabel('Water flowing out of the dam (y)')\n",
    "plt.grid()\n",
    "plt.show()"
   ]
  },
  {
   "cell_type": "markdown",
   "metadata": {},
   "source": [
    "# 2 Regularized Linear Regression Cost Function\n",
    "Recall that regularized linear regression has the following cost function:<img src='img/rlrc.jpg'><br><br>\n",
    "where `lambda` is a regularization parameter which controls the degree of regularization (thus, **help preventing overfitting**). The **regularization** term puts a **penalty** on the overal **cost J**.<br><br>\n",
    "As the magnitudes of the model parameters **θ<sub>j</sub>**\n",
    "increase, the penalty increases as well. Note that you should not regularize the **θ<sub>0</sub>** term.<br><br>\n",
    "\n",
    "**Your task is to write a function to calculate the regularized linear regression cost function. If possible, try to vectorize your code and avoid writing loops.**"
   ]
  },
  {
   "cell_type": "markdown",
   "metadata": {},
   "source": [
    "# 2.A Implementation\n",
    "`linear_reg_cost(x, y, theta, lambda_)` computes the cost of using `theta` as the parameter for linear regression to fit the data points in `x` and `y`. Returns the cost in `j` as cost."
   ]
  },
  {
   "cell_type": "code",
   "execution_count": 9,
   "metadata": {},
   "outputs": [],
   "source": [
    "def hypothesis(x,theta):\n",
    "    return np.dot(x,theta)"
   ]
  },
  {
   "cell_type": "code",
   "execution_count": 10,
   "metadata": {},
   "outputs": [],
   "source": [
    "def linear_reg_cost(theta_flatten, x_flatten, y, lambda_, num_of_samples, num_of_features):\n",
    "    x = x_flatten.reshape(num_of_samples, num_of_features)\n",
    "    theta = theta_flatten.reshape(n,1)\n",
    "    loss = hypothesis(x,theta)-y\n",
    "    regularizer = lambda_*np.sum(theta[1:,:]**2)/(2*m)\n",
    "    j = np.sum(loss ** 2)/(2*m) \n",
    "    return j"
   ]
  },
  {
   "cell_type": "markdown",
   "metadata": {},
   "source": [
    "## 2.B Test Cost Function\n",
    "Cost at `theta` = [1,1] should be about **303.993192**"
   ]
  },
  {
   "cell_type": "code",
   "execution_count": 11,
   "metadata": {},
   "outputs": [
    {
     "data": {
      "text/plain": [
       "303.95152555359761"
      ]
     },
     "execution_count": 11,
     "metadata": {},
     "output_type": "execute_result"
    }
   ],
   "source": [
    "m,n = x.shape\n",
    "theta = np.ones(n)\n",
    "lambda_= 1\n",
    "linear_reg_cost(theta.flatten(), x.flatten(),y,lambda_,m,n)"
   ]
  },
  {
   "cell_type": "markdown",
   "metadata": {},
   "source": [
    "<strong>compute_gradient(theta, x, y,lambda):</strong> computes the gradient of the cost using theta as the parameter."
   ]
  },
  {
   "cell_type": "markdown",
   "metadata": {},
   "source": [
    "# 3. Regularized Linear Regression Gradient\n",
    "Correspondingly, the **partial derivative of regularized linear regression’s cost for θ<sub>j</sub>** is defined as:<img src='img/rlrg.jpg'>"
   ]
  },
  {
   "cell_type": "markdown",
   "metadata": {},
   "source": [
    "## 3.A Implementation"
   ]
  },
  {
   "cell_type": "markdown",
   "metadata": {},
   "source": [
    "`linear_reg_grad(x, y, theta, lambda_)` computes the gradient of cost of using `theta` as the parameter for linear regression to fit the data points in `x` and `y`. Returns the gradient in `grad`."
   ]
  },
  {
   "cell_type": "code",
   "execution_count": 12,
   "metadata": {},
   "outputs": [],
   "source": [
    "def linear_reg_grad(theta_flatten, x_flatten, y, lambda_, num_of_samples, num_of_features):\n",
    "    x = x_flatten.reshape(num_of_samples, num_of_features)\n",
    "    m,n = x.shape\n",
    "    theta = theta_flatten.reshape(n,1)\n",
    "    new_theta = np.zeros(shape=(theta.shape))\n",
    "    loss = hypothesis(x,theta)-y\n",
    "    gradient = np.dot(x.T,loss)\n",
    "    new_theta[0:,:] = gradient/m\n",
    "    new_theta[1:,:] = gradient[1:,:]/m + lambda_*(theta[1:,]/m)\n",
    "    return new_theta.flatten()"
   ]
  },
  {
   "cell_type": "markdown",
   "metadata": {},
   "source": [
    "## 3.B Test Gradient Function\n",
    "Run your gradient function using `theta = [1; 1]`, You should expect to see a `gradient = [-15.30; 598.250]`."
   ]
  },
  {
   "cell_type": "code",
   "execution_count": 13,
   "metadata": {},
   "outputs": [],
   "source": [
    "theta = np.ones(n)\n",
    "lambda_ = 0\n",
    "grad = linear_reg_grad(theta,x.flatten(),y,lambda_,m,n)"
   ]
  },
  {
   "cell_type": "code",
   "execution_count": 14,
   "metadata": {},
   "outputs": [
    {
     "data": {
      "text/plain": [
       "array([ -15.30301567,  598.16741084])"
      ]
     },
     "execution_count": 14,
     "metadata": {},
     "output_type": "execute_result"
    }
   ],
   "source": [
    "grad"
   ]
  },
  {
   "cell_type": "markdown",
   "metadata": {},
   "source": [
    "# 4. Fitting Linear Regression\n",
    "Once your cost function and gradient are working correctly, the next part is to **compute the optimal values** of **θ**.<br>\n",
    "This training function uses `fmin_cg` to optimize the cost function. <a href='https://docs.scipy.org/doc/scipy-0.19.0/reference/generated/scipy.optimize.fmin_cg.html'>See official doc</a><br>\n",
    "In this part, we set regularization parameter **λ** to **zero**. Because our current implementation of linear regression is trying to fit a 2-dimensional **θ**, regularization will not be incredibly helpful for a **θ** of such **low dimension**.<br>\n",
    "In the later parts of the exercise, you will be using **polynomial regression with regularization**."
   ]
  },
  {
   "cell_type": "markdown",
   "metadata": {},
   "source": [
    "## 4.A Implementation\n",
    "Once you have implemented the cost and gradient correctly, the `fmin_cg` function will use your cost function to train regularized linear regression and update theta each time."
   ]
  },
  {
   "cell_type": "code",
   "execution_count": 15,
   "metadata": {},
   "outputs": [
    {
     "name": "stdout",
     "output_type": "stream",
     "text": [
      "Optimization terminated successfully.\n",
      "         Current function value: 22.373906\n",
      "         Iterations: 18\n",
      "         Function evaluations: 28\n",
      "         Gradient evaluations: 28\n"
     ]
    }
   ],
   "source": [
    "theta = np.ones(n)\n",
    "\n",
    "from scipy.optimize import fmin_cg\n",
    "new_theta = fmin_cg(f=linear_reg_cost, x0=theta, fprime=linear_reg_grad, args=(x.flatten(), y, lambda_, m,n))"
   ]
  },
  {
   "cell_type": "code",
   "execution_count": 16,
   "metadata": {},
   "outputs": [
    {
     "data": {
      "text/plain": [
       "array([ 13.08790734,   0.36777925])"
      ]
     },
     "execution_count": 16,
     "metadata": {},
     "output_type": "execute_result"
    }
   ],
   "source": [
    "new_theta"
   ]
  },
  {
   "cell_type": "markdown",
   "metadata": {},
   "source": [
    "## 4.B Visualization of Fitted Model\n",
    "Finally, you should also **plot the best fit line**. The best fit line tells us that the model is not a good fit to the data because the **data has a non-linear pattern**. While **visualizing the best fit** as shown is **one possible way to debug** your learning algorithm, it is not always easy to visualize the data and model.<br><br>\n",
    "In the next section, you will implement a function to **generate learning curves** that can help you debug your learning algorithm even if it is **not easy to visualize** the data."
   ]
  },
  {
   "cell_type": "code",
   "execution_count": 17,
   "metadata": {},
   "outputs": [
    {
     "data": {
      "image/png": "[encoded data removed]",
      "text/plain": [
       "<Figure size 432x288 with 1 Axes>"
      ]
     },
     "metadata": {},
     "output_type": "display_data"
    }
   ],
   "source": [
    "# import libraries\n",
    "import matplotlib.pyplot as plt\n",
    "%matplotlib inline\n",
    "\n",
    "plt.scatter(x[:,1], y, color='red', marker='x', label= 'train data')\n",
    "plt.plot(x[:,1],np.dot(x,new_theta.reshape(n,1)), label = 'best fit model')\n",
    "plt.title('Training Set')\n",
    "plt.xlabel('Change in water level (x)')\n",
    "plt.ylabel('Water flowing out of the dam (y)')\n",
    "plt.grid()\n",
    "plt.legend()\n",
    "plt.show()"
   ]
  },
  {
   "cell_type": "markdown",
   "metadata": {},
   "source": [
    "# 5. Bias-Variance\n",
    "An important concept in machine learning is the **bias-variance tradeoff**. Models with **high bias** are not complex enough for the data and tend to **underfit**, while models with **high variance** **overfit** to the training data.<br>\n",
    "In this part of the exercise, you will plot training and test errors on a learning curve to diagnose bias-variance problems."
   ]
  },
  {
   "cell_type": "markdown",
   "metadata": {},
   "source": [
    "## 5.1 Learning Curves\n",
    "You will now implement code to generate the learning curves that will be useful in debugging learning algorithms. Recall that a learning curve **plots training and cross validation error as a function of training set size.**<br>\n",
    "To plot the learning curve, we need a training and cross validation set error for **different training set** sizes. To obtain different training set sizes, you should use **different subsets** of the original training set `x`. Specifically, for a training set size of `i`, **you should use the first `i` examples **(i.e., `X[1:i,:]` and `y[1:i]`).<br><br>\n",
    "You can use the `fmin_cg` function to find the `θ` parameters. Note that the `lambda` is passed as a parameter to the `learning_curve` function. After learning the `θ` parameters, you should **compute the error on the training and cross validation sets.** Recall that the **training error** for a dataset is defined as:<img src='img/jtrain.jpg'><br>\n",
    "\n",
    "In particular, note that the **training error does not include the regularization** term. One way to compute the training error is to **use your existing cost function and set `λ` to `0`** only when using it to compute the training error and cross validation error.<br>\n",
    "When you are **computing the training set error**, make sure you compute it on the **training subset (i.e., `x[1:n,:]` and `y[1:n]`)** (instead of the entire training set). However, for the **cross validation error**, you should compute it over the **entire cross validation set**. You should store the computed errors in the vectors `error_train` and `error_val`."
   ]
  },
  {
   "cell_type": "markdown",
   "metadata": {},
   "source": [
    "`learning_curve(x, y, xval, yval, lambda_)` **returns the train and cross validation set errors for a learning curve**.<br><br> In particular, it returns two vectors of the same length - `error_train` and `error_val`. Then, `error_train[i]` contains the training error for `i` examples (and similarly for `error_val[i]`)."
   ]
  },
  {
   "cell_type": "code",
   "execution_count": 18,
   "metadata": {},
   "outputs": [],
   "source": [
    "error_train = np.zeros(m)\n",
    "error_val = np.zeros(m)\n",
    "\n",
    "lambda_ = 1"
   ]
  },
  {
   "cell_type": "code",
   "execution_count": 38,
   "metadata": {},
   "outputs": [],
   "source": [
    "def train_val_error(x, y, xval, yval, lambda_):\n",
    "    m,n = x.shape\n",
    "    theta = np.ones(n) # initialize theta for each time of training with subset of training set.\n",
    "    new_theta = fmin_cg(f=linear_reg_cost, x0=theta, fprime=linear_reg_grad, args=(x.flatten(), y, lambda_, m,n))\n",
    "    t_error = linear_reg_cost(new_theta.flatten(), x.flatten(), y, 0, x.shape[0], x.shape[1])\n",
    "    v_error = linear_reg_cost(new_theta.flatten(), xval.flatten(), yval, 0, xval.shape[0], xval.shape[1])\n",
    "    return (t_error, v_error)"
   ]
  },
  {
   "cell_type": "code",
   "execution_count": 39,
   "metadata": {},
   "outputs": [],
   "source": [
    "def learning_curve(x, y, xval, yval, lambda_):\n",
    "    m,n = x.shape\n",
    "    et_array = np.zeros(m)\n",
    "    ev_array = np.zeros(m)\n",
    "    for i in range(1,m):\n",
    "        et_array[i] , ev_array[i] = train_val_error(x[0:i,:],y[0:i],xval,yval,lambda_)\n",
    "    return (et_array,ev_array)"
   ]
  },
  {
   "cell_type": "code",
   "execution_count": 56,
   "metadata": {},
   "outputs": [
    {
     "name": "stdout",
     "output_type": "stream",
     "text": [
      "Warning: Desired error not necessarily achieved due to precision loss.\n",
      "         Current function value: 0.000001\n",
      "         Iterations: 7\n",
      "         Function evaluations: 145\n",
      "         Gradient evaluations: 133\n",
      "Warning: Desired error not necessarily achieved due to precision loss.\n",
      "         Current function value: 0.000001\n",
      "         Iterations: 11\n",
      "         Function evaluations: 130\n",
      "         Gradient evaluations: 118\n",
      "Warning: Desired error not necessarily achieved due to precision loss.\n",
      "         Current function value: 0.821654\n",
      "         Iterations: 12\n",
      "         Function evaluations: 133\n",
      "         Gradient evaluations: 118\n",
      "Warning: Desired error not necessarily achieved due to precision loss.\n",
      "         Current function value: 0.947566\n",
      "         Iterations: 12\n",
      "         Function evaluations: 89\n",
      "         Gradient evaluations: 76\n",
      "Warning: Desired error not necessarily achieved due to precision loss.\n",
      "         Current function value: 5.480855\n",
      "         Iterations: 10\n",
      "         Function evaluations: 135\n",
      "         Gradient evaluations: 123\n",
      "Warning: Desired error not necessarily achieved due to precision loss.\n",
      "         Current function value: 9.721983\n",
      "         Iterations: 15\n",
      "         Function evaluations: 130\n",
      "         Gradient evaluations: 118\n",
      "Warning: Desired error not necessarily achieved due to precision loss.\n",
      "         Current function value: 11.724155\n",
      "         Iterations: 13\n",
      "         Function evaluations: 132\n",
      "         Gradient evaluations: 118\n",
      "Warning: Desired error not necessarily achieved due to precision loss.\n",
      "         Current function value: 12.115397\n",
      "         Iterations: 8\n",
      "         Function evaluations: 78\n",
      "         Gradient evaluations: 67\n",
      "Warning: Desired error not necessarily achieved due to precision loss.\n",
      "         Current function value: 16.957055\n",
      "         Iterations: 14\n",
      "         Function evaluations: 109\n",
      "         Gradient evaluations: 94\n",
      "Warning: Desired error not necessarily achieved due to precision loss.\n",
      "         Current function value: 19.384552\n",
      "         Iterations: 9\n",
      "         Function evaluations: 118\n",
      "         Gradient evaluations: 106\n",
      "Warning: Desired error not necessarily achieved due to precision loss.\n",
      "         Current function value: 22.290813\n",
      "         Iterations: 22\n",
      "         Function evaluations: 141\n",
      "         Gradient evaluations: 128\n"
     ]
    }
   ],
   "source": [
    "error_train, error_val = learning_curve(x,y,xval,yval,lambda_,)"
   ]
  },
  {
   "cell_type": "markdown",
   "metadata": {},
   "source": [
    "## 5.2 Plot Learning Curve\n",
    "You must observe that both the **train error and cross validation error are high** when the number of **training examples** is **increased**. This reflects a **high bias** problem in the model. (the **linear regression** model is too simple and is unable to fit our dataset well so it is **underfitting**)"
   ]
  },
  {
   "cell_type": "code",
   "execution_count": 73,
   "metadata": {},
   "outputs": [
    {
     "data": {
      "image/png": "[encoded data removed]",
      "text/plain": [
       "<Figure size 432x288 with 1 Axes>"
      ]
     },
     "metadata": {},
     "output_type": "display_data"
    }
   ],
   "source": [
    "plt.plot(np.arange(2,m+1),error_train[1:], label = 'train error')\n",
    "plt.plot(np.arange(2,m+1),error_val[1:], label = 'cross validation error', color= 'green')\n",
    "plt.ylim(ymax=150)\n",
    "#plt.axis([0, 12, 0, 160])\n",
    "plt.title('Training Set')\n",
    "plt.xlabel('Number of training examples (x)')\n",
    "plt.ylabel('Error (y)')\n",
    "plt.grid()\n",
    "plt.legend()\n",
    "plt.show()"
   ]
  },
  {
   "cell_type": "markdown",
   "metadata": {},
   "source": [
    "In the next section, you will implement **polynomial regression** to fit a better model for this dataset."
   ]
  }
 ],
 "metadata": {
  "kernelspec": {
   "display_name": "Python 3",
   "language": "python",
   "name": "python3"
  },
  "language_info": {
   "codemirror_mode": {
    "name": "ipython",
    "version": 3
   },
   "file_extension": ".py",
   "mimetype": "text/x-python",
   "name": "python",
   "nbconvert_exporter": "python",
   "pygments_lexer": "ipython3",
   "version": "3.6.6"
  }
 },
 "nbformat": 4,
 "nbformat_minor": 2
}
