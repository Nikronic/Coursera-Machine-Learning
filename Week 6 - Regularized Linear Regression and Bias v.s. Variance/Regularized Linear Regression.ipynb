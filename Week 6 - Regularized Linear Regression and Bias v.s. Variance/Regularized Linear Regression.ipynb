{
 "cells": [
  {
   "cell_type": "markdown",
   "metadata": {},
   "source": [
    "# Regularized Linear Regression\n",
    "\n",
    "In the first half of the exercise, you will implement regularized linear regression to predict the amount of water flowing out of a dam using the change of water level in a reservoir. In the next half, you will go through some **diagnostics of debugging learning algorithms** and examine the **effects of bias v.s. variance.**<br><br>\n",
    "In the following parts, you will implement linear regression and use that to fit a **straight line** to the data and plot learning curves. Following that, you will implement **polynomial regression** to find a **better fit** to the data.\n",
    "\n",
    "The file <strong><em>ex5data1</em></strong> contains a data set which includes train set, test set, validation set.<br>\n",
    "The structure of the dataset described blow:<br>\n",
    "1. x = **Water level (a single feature)**\n",
    "2. y = **Value of flowed water**\n",
    "3. xval = **x validation set**\n",
    "4. yval = **y validation set**\n",
    "5. xtest = **x test set**\n",
    "6. ytest = **y test set**\n",
    "\n",
    "\n",
    "<br><br>\n",
    "<strong>\n",
    "Our assignment has these sections:\n",
    "1. Visualizing the Data\n",
    "    1. Converting .mat to .csv\n",
    "    2. Loading Dataset\n",
    "    3. Visualizing The Dataset\n",
    "2. Regularized Linear Regression Cost Function\n",
    "3. Regularized Linear Regression Gradient\n",
    "4. Fitting Linear Regression\n",
    "    \n",
    "</strong>\n",
    "\n",
    "In each section full description provided."
   ]
  },
  {
   "cell_type": "markdown",
   "metadata": {},
   "source": [
    "## 1. Visualizing the Dataset\n",
    "Before starting on any task, it is often useful to understand the data by visualizing it.<br>"
   ]
  },
  {
   "cell_type": "markdown",
   "metadata": {},
   "source": [
    "### 1.A Converting .mat to .csv\n",
    "In this specific assignment, the instructor added a .mat file as training set and weights of trained neural network. But we have to convert it to .csv to use in python.<br>\n",
    "After all we now ready to import our new csv files to pandas dataframes and do preprocessing on it and make it ready for next steps."
   ]
  },
  {
   "cell_type": "code",
   "execution_count": 1,
   "metadata": {},
   "outputs": [],
   "source": [
    "# import libraries\n",
    "import scipy.io\n",
    "import numpy as np\n",
    "\n",
    "data = scipy.io.loadmat(\"ex5data1\")"
   ]
  },
  {
   "cell_type": "markdown",
   "metadata": {},
   "source": [
    "Now we **extract** `x`, `y`, `xval`, `yval`, `xtest` and `ytest`</strong> variables from the .mat file and save them into .csv file for further usage. After running the below code you should see:\n",
    "1. X.csv\n",
    "2. y.csv \n",
    "3. Xtest.csv\n",
    "4. ytest.csv\n",
    "5. Xval.csv\n",
    "6. yval.csv\n",
    "\n",
    "files in your directory."
   ]
  },
  {
   "cell_type": "code",
   "execution_count": 2,
   "metadata": {},
   "outputs": [],
   "source": [
    "for i in data:\n",
    "    if '__' not in i and 'readme' not in i:\n",
    "        np.savetxt((i+\".csv\"),data[i],delimiter=',')"
   ]
  },
  {
   "cell_type": "markdown",
   "metadata": {},
   "source": [
    "### 1.B Loading Dataset\n",
    "First we import .csv files into pandas dataframes then save them into numpy arrays.<br><br>"
   ]
  },
  {
   "cell_type": "code",
   "execution_count": 3,
   "metadata": {},
   "outputs": [],
   "source": [
    "# import library\n",
    "import pandas as pd\n",
    "\n",
    "# saving .csv files to pandas dataframes\n",
    "x_df = pd.read_csv('X.csv',names= ['x'])\n",
    "xtest_df = pd.read_csv('Xtest.csv',names= ['xtest'])\n",
    "xval_df = pd.read_csv('Xval.csv',names= ['xval'])\n",
    "y_df = pd.read_csv('y.csv',names=['y'])\n",
    "ytest_df = pd.read_csv('ytest.csv',names= ['ytest'])\n",
    "yval_df = pd.read_csv('yval.csv',names= ['yval'])"
   ]
  },
  {
   "cell_type": "code",
   "execution_count": 7,
   "metadata": {},
   "outputs": [
    {
     "data": {
      "text/html": [
       "<div>\n",
       "<style scoped>\n",
       "    .dataframe tbody tr th:only-of-type {\n",
       "        vertical-align: middle;\n",
       "    }\n",
       "\n",
       "    .dataframe tbody tr th {\n",
       "        vertical-align: top;\n",
       "    }\n",
       "\n",
       "    .dataframe thead th {\n",
       "        text-align: right;\n",
       "    }\n",
       "</style>\n",
       "<table border=\"1\" class=\"dataframe\">\n",
       "  <thead>\n",
       "    <tr style=\"text-align: right;\">\n",
       "      <th></th>\n",
       "      <th>x</th>\n",
       "    </tr>\n",
       "  </thead>\n",
       "  <tbody>\n",
       "    <tr>\n",
       "      <th>0</th>\n",
       "      <td>-15.936758</td>\n",
       "    </tr>\n",
       "    <tr>\n",
       "      <th>1</th>\n",
       "      <td>-29.152979</td>\n",
       "    </tr>\n",
       "    <tr>\n",
       "      <th>2</th>\n",
       "      <td>36.189549</td>\n",
       "    </tr>\n",
       "  </tbody>\n",
       "</table>\n",
       "</div>"
      ],
      "text/plain": [
       "           x\n",
       "0 -15.936758\n",
       "1 -29.152979\n",
       "2  36.189549"
      ]
     },
     "execution_count": 7,
     "metadata": {},
     "output_type": "execute_result"
    }
   ],
   "source": [
    "x_df.head(3)"
   ]
  },
  {
   "cell_type": "code",
   "execution_count": 8,
   "metadata": {},
   "outputs": [
    {
     "data": {
      "text/html": [
       "<div>\n",
       "<style scoped>\n",
       "    .dataframe tbody tr th:only-of-type {\n",
       "        vertical-align: middle;\n",
       "    }\n",
       "\n",
       "    .dataframe tbody tr th {\n",
       "        vertical-align: top;\n",
       "    }\n",
       "\n",
       "    .dataframe thead th {\n",
       "        text-align: right;\n",
       "    }\n",
       "</style>\n",
       "<table border=\"1\" class=\"dataframe\">\n",
       "  <thead>\n",
       "    <tr style=\"text-align: right;\">\n",
       "      <th></th>\n",
       "      <th>y</th>\n",
       "    </tr>\n",
       "  </thead>\n",
       "  <tbody>\n",
       "    <tr>\n",
       "      <th>0</th>\n",
       "      <td>2.134311</td>\n",
       "    </tr>\n",
       "    <tr>\n",
       "      <th>1</th>\n",
       "      <td>1.173257</td>\n",
       "    </tr>\n",
       "    <tr>\n",
       "      <th>2</th>\n",
       "      <td>34.359109</td>\n",
       "    </tr>\n",
       "  </tbody>\n",
       "</table>\n",
       "</div>"
      ],
      "text/plain": [
       "           y\n",
       "0   2.134311\n",
       "1   1.173257\n",
       "2  34.359109"
      ]
     },
     "execution_count": 8,
     "metadata": {},
     "output_type": "execute_result"
    }
   ],
   "source": [
    "y_df.head(3)"
   ]
  },
  {
   "cell_type": "markdown",
   "metadata": {},
   "source": [
    "Now we convert all **pandas dataframes** to **numpy arrays** for calculations."
   ]
  },
  {
   "cell_type": "code",
   "execution_count": 10,
   "metadata": {},
   "outputs": [
    {
     "name": "stdout",
     "output_type": "stream",
     "text": [
      "#12 Number of training samples, #1 features per sample\n",
      "#21 Number of validation samples, #1 features per sample\n",
      "#21 Number of test samples, #1 features per sample\n"
     ]
    }
   ],
   "source": [
    "# saving x, y, xval, yval, xtest and ytest into numpy arrays\n",
    "x = x_df.iloc[:,:].values\n",
    "xval = xval_df.iloc[:,:].values\n",
    "xtest = xtest_df.iloc[:,:].values\n",
    "\n",
    "y = y_df.iloc[:,:].values\n",
    "yval = yval_df.iloc[:,:].values\n",
    "ytest = ytest_df.iloc[:,:].values\n",
    "\n",
    "\n",
    "m, n = x.shape\n",
    "m_val = xval.shape[0]\n",
    "m_test = xtest.shape[0]\n",
    "\n",
    "print('#{} Number of training samples, #{} features per sample'.format(m,n))\n",
    "print('#{} Number of validation samples, #{} features per sample'.format(m_val,n))\n",
    "print('#{} Number of test samples, #{} features per sample'.format(m_test,n))"
   ]
  },
  {
   "cell_type": "markdown",
   "metadata": {},
   "source": [
    "### 1.C Ploting Dataset\n",
    "We will begin by visualizing the dataset containing historical records on **the change in the water level**, `x`, and **the amount of water flowing out of the dam**, `y`.<br><br>\n",
    "This dataset is divided into three parts:<br>\n",
    "    • A **training set** that your model will learn on: `x`, `y`<br>\n",
    "    • A **cross validation set** for determining the regularization parameter: `xval`, `yval`<br>\n",
    "    • A **test set** for evaluating performance. These are **\"unseen\" examples** which your model did not see during training: `xtest`, `ytest`<br>"
   ]
  },
  {
   "cell_type": "code",
   "execution_count": 27,
   "metadata": {},
   "outputs": [
    {
     "data": {
      "image/png": "[encoded data removed]",
      "text/plain": [
       "<Figure size 432x288 with 1 Axes>"
      ]
     },
     "metadata": {},
     "output_type": "display_data"
    }
   ],
   "source": [
    "# import libraries\n",
    "import matplotlib.pyplot as plt\n",
    "%matplotlib inline\n",
    "\n",
    "plt.scatter(x, y, color='red', marker='x')\n",
    "plt.title('Training Set')\n",
    "plt.xlabel('Change in water level (x)')\n",
    "plt.ylabel('Water flowing out of the dam (y)')\n",
    "plt.show()"
   ]
  },
  {
   "cell_type": "code",
   "execution_count": null,
   "metadata": {},
   "outputs": [],
   "source": []
  }
 ],
 "metadata": {
  "kernelspec": {
   "display_name": "Python 3",
   "language": "python",
   "name": "python3"
  },
  "language_info": {
   "codemirror_mode": {
    "name": "ipython",
    "version": 3
   },
   "file_extension": ".py",
   "mimetype": "text/x-python",
   "name": "python",
   "nbconvert_exporter": "python",
   "pygments_lexer": "ipython3",
   "version": "3.6.6"
  }
 },
 "nbformat": 4,
 "nbformat_minor": 2
}
