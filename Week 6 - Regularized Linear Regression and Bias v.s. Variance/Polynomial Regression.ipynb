{
 "cells": [
  {
   "cell_type": "markdown",
   "metadata": {},
   "source": [
    "# Polynomial Regression\n",
    "The problem with our linear model was that it was too simple for the data and resulted in underfitting (high bias). In this part of the exercise, you will address this problem by adding more features.<br><br>\n",
    "\n",
    "The file <strong><em>ex5data1</em></strong> contains a data set which includes train set, test set, validation set.<br>\n",
    "The structure of the dataset described blow:<br>\n",
    "1. x = **Water level (a single feature)**\n",
    "2. y = **Value of flowed water**\n",
    "3. xval = **x validation set**\n",
    "4. yval = **y validation set**\n",
    "5. xtest = **x test set**\n",
    "6. ytest = **y test set**\n",
    "\n",
    "\n",
    "<br><br>\n",
    "<strong>\n",
    "Our assignment has these sections:\n",
    "1. Visualizing the Data\n",
    "    1. Converting .mat to .csv\n",
    "    2. Loading Dataset\n",
    "    3. Visualizing The Dataset\n",
    "2. Adding Polynomial Features\n",
    "    1. Adding Features\n",
    "    2. Normalizing Features\n",
    "3. Learning Polynomial Regression\n",
    "    1. Regularized Linear Regression Cost Function\n",
    "    2. Regularized Linear Regression Gradient\n",
    "    3. Fitting Linear Regression\n",
    "    4. Visualization of Fitted Model\n",
    "4. Adjusting The Regularization Parameter\n",
    "    1. \n",
    "5. Selecting λ Using a Cross Validation Set\n",
    "    1. \n",
    "6. Computing Test Set Error\n",
    "    1.  \n",
    "7. Plotting Learning Curves With Randomly Selected Examples\n",
    "    \n",
    "</strong>\n",
    "\n",
    "In each section full description provided."
   ]
  },
  {
   "cell_type": "markdown",
   "metadata": {},
   "source": [
    "## 1. Visualizing the Dataset\n",
    "Before starting on any task, it is often useful to understand the data by visualizing it.<br>"
   ]
  },
  {
   "cell_type": "markdown",
   "metadata": {},
   "source": [
    "### 1.A Converting .mat to .csv\n",
    "In this specific assignment, the instructor added a .mat file as training set and weights of trained neural network. But we have to convert it to .csv to use in python.<br>\n",
    "After all we now ready to import our new csv files to pandas dataframes and do preprocessing on it and make it ready for next steps."
   ]
  },
  {
   "cell_type": "code",
   "execution_count": 1,
   "metadata": {},
   "outputs": [],
   "source": [
    "# import libraries\n",
    "import scipy.io\n",
    "import numpy as np\n",
    "\n",
    "data = scipy.io.loadmat(\"ex5data1\")"
   ]
  },
  {
   "cell_type": "markdown",
   "metadata": {},
   "source": [
    "Now we **extract** `x`, `y`, `xval`, `yval`, `xtest` and `ytest`</strong> variables from the .mat file and save them into .csv file for further usage. After running the below code you should see:\n",
    "1. X.csv\n",
    "2. y.csv \n",
    "3. Xtest.csv\n",
    "4. ytest.csv\n",
    "5. Xval.csv\n",
    "6. yval.csv\n",
    "\n",
    "files in your directory."
   ]
  },
  {
   "cell_type": "code",
   "execution_count": 2,
   "metadata": {},
   "outputs": [],
   "source": [
    "for i in data:\n",
    "    if '__' not in i and 'readme' not in i:\n",
    "        np.savetxt((i+\".csv\"),data[i],delimiter=',')"
   ]
  },
  {
   "cell_type": "markdown",
   "metadata": {},
   "source": [
    "### 1.B Loading Dataset\n",
    "First we import .csv files into pandas dataframes then save them into numpy arrays.<br><br>"
   ]
  },
  {
   "cell_type": "code",
   "execution_count": 3,
   "metadata": {},
   "outputs": [],
   "source": [
    "# import library\n",
    "import pandas as pd\n",
    "\n",
    "# saving .csv files to pandas dataframes\n",
    "x_df = pd.read_csv('X.csv',names= ['x'])\n",
    "xtest_df = pd.read_csv('Xtest.csv',names= ['xtest'])\n",
    "xval_df = pd.read_csv('Xval.csv',names= ['xval'])\n",
    "y_df = pd.read_csv('y.csv',names=['y'])\n",
    "ytest_df = pd.read_csv('ytest.csv',names= ['ytest'])\n",
    "yval_df = pd.read_csv('yval.csv',names= ['yval'])"
   ]
  },
  {
   "cell_type": "code",
   "execution_count": 4,
   "metadata": {},
   "outputs": [
    {
     "data": {
      "text/html": [
       "<div>\n",
       "<style scoped>\n",
       "    .dataframe tbody tr th:only-of-type {\n",
       "        vertical-align: middle;\n",
       "    }\n",
       "\n",
       "    .dataframe tbody tr th {\n",
       "        vertical-align: top;\n",
       "    }\n",
       "\n",
       "    .dataframe thead th {\n",
       "        text-align: right;\n",
       "    }\n",
       "</style>\n",
       "<table border=\"1\" class=\"dataframe\">\n",
       "  <thead>\n",
       "    <tr style=\"text-align: right;\">\n",
       "      <th></th>\n",
       "      <th>x</th>\n",
       "    </tr>\n",
       "  </thead>\n",
       "  <tbody>\n",
       "    <tr>\n",
       "      <th>0</th>\n",
       "      <td>-15.936758</td>\n",
       "    </tr>\n",
       "    <tr>\n",
       "      <th>1</th>\n",
       "      <td>-29.152979</td>\n",
       "    </tr>\n",
       "    <tr>\n",
       "      <th>2</th>\n",
       "      <td>36.189549</td>\n",
       "    </tr>\n",
       "  </tbody>\n",
       "</table>\n",
       "</div>"
      ],
      "text/plain": [
       "           x\n",
       "0 -15.936758\n",
       "1 -29.152979\n",
       "2  36.189549"
      ]
     },
     "execution_count": 4,
     "metadata": {},
     "output_type": "execute_result"
    }
   ],
   "source": [
    "x_df.head(3)"
   ]
  },
  {
   "cell_type": "code",
   "execution_count": 5,
   "metadata": {},
   "outputs": [
    {
     "data": {
      "text/html": [
       "<div>\n",
       "<style scoped>\n",
       "    .dataframe tbody tr th:only-of-type {\n",
       "        vertical-align: middle;\n",
       "    }\n",
       "\n",
       "    .dataframe tbody tr th {\n",
       "        vertical-align: top;\n",
       "    }\n",
       "\n",
       "    .dataframe thead th {\n",
       "        text-align: right;\n",
       "    }\n",
       "</style>\n",
       "<table border=\"1\" class=\"dataframe\">\n",
       "  <thead>\n",
       "    <tr style=\"text-align: right;\">\n",
       "      <th></th>\n",
       "      <th>y</th>\n",
       "    </tr>\n",
       "  </thead>\n",
       "  <tbody>\n",
       "    <tr>\n",
       "      <th>0</th>\n",
       "      <td>2.134311</td>\n",
       "    </tr>\n",
       "    <tr>\n",
       "      <th>1</th>\n",
       "      <td>1.173257</td>\n",
       "    </tr>\n",
       "    <tr>\n",
       "      <th>2</th>\n",
       "      <td>34.359109</td>\n",
       "    </tr>\n",
       "  </tbody>\n",
       "</table>\n",
       "</div>"
      ],
      "text/plain": [
       "           y\n",
       "0   2.134311\n",
       "1   1.173257\n",
       "2  34.359109"
      ]
     },
     "execution_count": 5,
     "metadata": {},
     "output_type": "execute_result"
    }
   ],
   "source": [
    "y_df.head(3)"
   ]
  },
  {
   "cell_type": "markdown",
   "metadata": {},
   "source": [
    "Now we convert all **pandas dataframes** to **numpy arrays** for calculations."
   ]
  },
  {
   "cell_type": "code",
   "execution_count": 6,
   "metadata": {},
   "outputs": [
    {
     "name": "stdout",
     "output_type": "stream",
     "text": [
      "#12 Number of training samples, #1 features per sample\n",
      "#21 Number of validation samples, #1 features per sample\n",
      "#21 Number of test samples, #1 features per sample\n"
     ]
    }
   ],
   "source": [
    "# saving x, y, xval, yval, xtest and ytest into numpy arrays\n",
    "x = x_df.iloc[:,:].values\n",
    "xval = xval_df.iloc[:,:].values\n",
    "xtest = xtest_df.iloc[:,:].values\n",
    "\n",
    "y = y_df.iloc[:,:].values\n",
    "yval = yval_df.iloc[:,:].values\n",
    "ytest = ytest_df.iloc[:,:].values\n",
    "\n",
    "# number of examples and number of features\n",
    "m, n = x.shape\n",
    "\n",
    "m_val = xval.shape[0]\n",
    "m_test = xtest.shape[0]\n",
    "\n",
    "print('#{} Number of training samples, #{} features per sample'.format(m,n))\n",
    "print('#{} Number of validation samples, #{} features per sample'.format(m_val,n))\n",
    "print('#{} Number of test samples, #{} features per sample'.format(m_test,n))"
   ]
  },
  {
   "cell_type": "code",
   "execution_count": 7,
   "metadata": {},
   "outputs": [],
   "source": [
    "# define some hypter parameters\n",
    "\n",
    "# define theta as zero\n",
    "theta = None\n",
    "\n",
    "# define hyperparameter λ\n",
    "lambda_ = None\n",
    "\n",
    "# reshape (-1,1) because we just have one feature in y column\n",
    "y = y.reshape(-1,1)"
   ]
  },
  {
   "cell_type": "markdown",
   "metadata": {},
   "source": [
    "### 1.C Ploting Dataset\n",
    "We will begin by visualizing the dataset containing historical records on **the change in the water level**, `x`, and **the amount of water flowing out of the dam**, `y`.<br><br>\n",
    "This dataset is divided into three parts:<br>\n",
    "    • A **training set** that your model will learn on: `x`, `y`<br>\n",
    "    • A **cross validation set** for determining the regularization parameter: `xval`, `yval`<br>\n",
    "    • A **test set** for evaluating performance. These are **\"unseen\" examples** which your model did not see during training: `xtest`, `ytest`<br>"
   ]
  },
  {
   "cell_type": "code",
   "execution_count": 9,
   "metadata": {},
   "outputs": [
    {
     "data": {
      "image/png": "[encoded data removed]",
      "text/plain": [
       "<Figure size 432x288 with 1 Axes>"
      ]
     },
     "metadata": {},
     "output_type": "display_data"
    }
   ],
   "source": [
    "# import libraries\n",
    "import matplotlib.pyplot as plt\n",
    "%matplotlib inline\n",
    "\n",
    "plt.scatter(x, y, color='red', marker='x')\n",
    "plt.title('Training Set')\n",
    "plt.xlabel('Change in water level (x)')\n",
    "plt.ylabel('Water flowing out of the dam (y)')\n",
    "plt.grid()\n",
    "plt.show()"
   ]
  },
  {
   "cell_type": "markdown",
   "metadata": {},
   "source": [
    "# 2. Adding Polynomial Features\n",
    "\n",
    "For use polynomial regression, our hypothesis has the form:<img src='img/poly.jpg'>\n",
    "Notice that by defining `x1 = (waterLevel)`, `x2 = (waterLevel)`<sup>2</sup>, ... , `xp = (waterLevel)`<sup>p</sup>, we obtain a linear regression model where the features are the various powers of the original value (waterLevel).<br><br>\n",
    "Now, you will **add more features using the higher powers** of the existing feature `x` in the dataset. Your task write a function so that the function **maps the original training set `x` of size `m × 1` into its higher powers**. Specifically, when a training set `x` of size `m × 1` is passed into the function, the **function should return a `m × p` matrix `x_poly`**, where column `1` holds the original values of `x`, column `2` holds the values of `x^2`, column `3` holds the values of `x^3`, and so on.<br> \n",
    "Note that **you don’t have to account for the zero-eth power in this function**."
   ]
  },
  {
   "cell_type": "markdown",
   "metadata": {},
   "source": [
    "## 2.A Adding Features\n",
    "`poly_features(x, p)` takes a data matrix `x` (size `m x 1`) and **maps each example into its polynomial features** where <br>\n",
    "`x_poly[i, :] = [x(i) x(i)^2 x(i)^3 ...  x(i)^p]`"
   ]
  },
  {
   "cell_type": "code",
   "execution_count": 12,
   "metadata": {},
   "outputs": [],
   "source": [
    "x_poly = None # the output of polu_features\n",
    "p = 8 # order of polynomial features\n",
    "\n",
    "from sklearn.preprocessing import PolynomialFeatures # import libraries\n",
    "def poly_features(x,p):    \n",
    "    polynomial_features = PolynomialFeatures(degree=8, include_bias=False)\n",
    "    x_poly = polynomial_features.fit_transform(x)\n",
    "    return x_poly\n",
    "    "
   ]
  },
  {
   "cell_type": "code",
   "execution_count": 13,
   "metadata": {},
   "outputs": [
    {
     "data": {
      "text/html": [
       "<div>\n",
       "<style scoped>\n",
       "    .dataframe tbody tr th:only-of-type {\n",
       "        vertical-align: middle;\n",
       "    }\n",
       "\n",
       "    .dataframe tbody tr th {\n",
       "        vertical-align: top;\n",
       "    }\n",
       "\n",
       "    .dataframe thead th {\n",
       "        text-align: right;\n",
       "    }\n",
       "</style>\n",
       "<table border=\"1\" class=\"dataframe\">\n",
       "  <thead>\n",
       "    <tr style=\"text-align: right;\">\n",
       "      <th></th>\n",
       "      <th>0</th>\n",
       "      <th>1</th>\n",
       "      <th>2</th>\n",
       "      <th>3</th>\n",
       "      <th>4</th>\n",
       "      <th>5</th>\n",
       "      <th>6</th>\n",
       "      <th>7</th>\n",
       "    </tr>\n",
       "  </thead>\n",
       "  <tbody>\n",
       "    <tr>\n",
       "      <th>0</th>\n",
       "      <td>-15.936758</td>\n",
       "      <td>253.980260</td>\n",
       "      <td>-4047.621971</td>\n",
       "      <td>6.450597e+04</td>\n",
       "      <td>-1.028016e+06</td>\n",
       "      <td>1.638324e+07</td>\n",
       "      <td>-2.610958e+08</td>\n",
       "      <td>4.161020e+09</td>\n",
       "    </tr>\n",
       "    <tr>\n",
       "      <th>1</th>\n",
       "      <td>-29.152979</td>\n",
       "      <td>849.896197</td>\n",
       "      <td>-24777.006175</td>\n",
       "      <td>7.223235e+05</td>\n",
       "      <td>-2.105788e+07</td>\n",
       "      <td>6.139000e+08</td>\n",
       "      <td>-1.789701e+10</td>\n",
       "      <td>5.217513e+11</td>\n",
       "    </tr>\n",
       "    <tr>\n",
       "      <th>2</th>\n",
       "      <td>36.189549</td>\n",
       "      <td>1309.683430</td>\n",
       "      <td>47396.852168</td>\n",
       "      <td>1.715271e+06</td>\n",
       "      <td>6.207487e+07</td>\n",
       "      <td>2.246462e+09</td>\n",
       "      <td>8.129843e+10</td>\n",
       "      <td>2.942154e+12</td>\n",
       "    </tr>\n",
       "  </tbody>\n",
       "</table>\n",
       "</div>"
      ],
      "text/plain": [
       "           0            1             2             3             4  \\\n",
       "0 -15.936758   253.980260  -4047.621971  6.450597e+04 -1.028016e+06   \n",
       "1 -29.152979   849.896197 -24777.006175  7.223235e+05 -2.105788e+07   \n",
       "2  36.189549  1309.683430  47396.852168  1.715271e+06  6.207487e+07   \n",
       "\n",
       "              5             6             7  \n",
       "0  1.638324e+07 -2.610958e+08  4.161020e+09  \n",
       "1  6.139000e+08 -1.789701e+10  5.217513e+11  \n",
       "2  2.246462e+09  8.129843e+10  2.942154e+12  "
      ]
     },
     "execution_count": 13,
     "metadata": {},
     "output_type": "execute_result"
    }
   ],
   "source": [
    "x_poly = poly_features(x,p)\n",
    "x_poly_df = pd.DataFrame(x_poly,columns=None)\n",
    "x_poly_df.head(3)"
   ]
  },
  {
   "cell_type": "markdown",
   "metadata": {},
   "source": [
    "#### Now we add these features to `xtest` and `xval`"
   ]
  },
  {
   "cell_type": "code",
   "execution_count": 14,
   "metadata": {},
   "outputs": [
    {
     "data": {
      "text/html": [
       "<div>\n",
       "<style scoped>\n",
       "    .dataframe tbody tr th:only-of-type {\n",
       "        vertical-align: middle;\n",
       "    }\n",
       "\n",
       "    .dataframe tbody tr th {\n",
       "        vertical-align: top;\n",
       "    }\n",
       "\n",
       "    .dataframe thead th {\n",
       "        text-align: right;\n",
       "    }\n",
       "</style>\n",
       "<table border=\"1\" class=\"dataframe\">\n",
       "  <thead>\n",
       "    <tr style=\"text-align: right;\">\n",
       "      <th></th>\n",
       "      <th>0</th>\n",
       "      <th>1</th>\n",
       "      <th>2</th>\n",
       "      <th>3</th>\n",
       "      <th>4</th>\n",
       "      <th>5</th>\n",
       "      <th>6</th>\n",
       "      <th>7</th>\n",
       "    </tr>\n",
       "  </thead>\n",
       "  <tbody>\n",
       "    <tr>\n",
       "      <th>0</th>\n",
       "      <td>-16.746536</td>\n",
       "      <td>280.446461</td>\n",
       "      <td>-4696.506686</td>\n",
       "      <td>7.865022e+04</td>\n",
       "      <td>-1.317119e+06</td>\n",
       "      <td>2.205718e+07</td>\n",
       "      <td>-3.693813e+08</td>\n",
       "      <td>6.185857e+09</td>\n",
       "    </tr>\n",
       "    <tr>\n",
       "      <th>1</th>\n",
       "      <td>-14.577471</td>\n",
       "      <td>212.502653</td>\n",
       "      <td>-3097.751215</td>\n",
       "      <td>4.515738e+04</td>\n",
       "      <td>-6.582804e+05</td>\n",
       "      <td>9.596063e+06</td>\n",
       "      <td>-1.398863e+08</td>\n",
       "      <td>2.039189e+09</td>\n",
       "    </tr>\n",
       "    <tr>\n",
       "      <th>2</th>\n",
       "      <td>34.515759</td>\n",
       "      <td>1191.337596</td>\n",
       "      <td>41119.920932</td>\n",
       "      <td>1.419285e+06</td>\n",
       "      <td>4.898771e+07</td>\n",
       "      <td>1.690848e+09</td>\n",
       "      <td>5.836090e+10</td>\n",
       "      <td>2.014371e+12</td>\n",
       "    </tr>\n",
       "  </tbody>\n",
       "</table>\n",
       "</div>"
      ],
      "text/plain": [
       "           0            1             2             3             4  \\\n",
       "0 -16.746536   280.446461  -4696.506686  7.865022e+04 -1.317119e+06   \n",
       "1 -14.577471   212.502653  -3097.751215  4.515738e+04 -6.582804e+05   \n",
       "2  34.515759  1191.337596  41119.920932  1.419285e+06  4.898771e+07   \n",
       "\n",
       "              5             6             7  \n",
       "0  2.205718e+07 -3.693813e+08  6.185857e+09  \n",
       "1  9.596063e+06 -1.398863e+08  2.039189e+09  \n",
       "2  1.690848e+09  5.836090e+10  2.014371e+12  "
      ]
     },
     "execution_count": 14,
     "metadata": {},
     "output_type": "execute_result"
    }
   ],
   "source": [
    "xval_poly = poly_features(xval,p)\n",
    "xval_poly_df = pd.DataFrame(xval_poly,columns=None)\n",
    "xval_poly_df.head(3)"
   ]
  },
  {
   "cell_type": "code",
   "execution_count": 15,
   "metadata": {},
   "outputs": [
    {
     "data": {
      "text/html": [
       "<div>\n",
       "<style scoped>\n",
       "    .dataframe tbody tr th:only-of-type {\n",
       "        vertical-align: middle;\n",
       "    }\n",
       "\n",
       "    .dataframe tbody tr th {\n",
       "        vertical-align: top;\n",
       "    }\n",
       "\n",
       "    .dataframe thead th {\n",
       "        text-align: right;\n",
       "    }\n",
       "</style>\n",
       "<table border=\"1\" class=\"dataframe\">\n",
       "  <thead>\n",
       "    <tr style=\"text-align: right;\">\n",
       "      <th></th>\n",
       "      <th>0</th>\n",
       "      <th>1</th>\n",
       "      <th>2</th>\n",
       "      <th>3</th>\n",
       "      <th>4</th>\n",
       "      <th>5</th>\n",
       "      <th>6</th>\n",
       "      <th>7</th>\n",
       "    </tr>\n",
       "  </thead>\n",
       "  <tbody>\n",
       "    <tr>\n",
       "      <th>0</th>\n",
       "      <td>-33.318004</td>\n",
       "      <td>1110.089390</td>\n",
       "      <td>-36985.962723</td>\n",
       "      <td>1.232298e+06</td>\n",
       "      <td>-4.105772e+07</td>\n",
       "      <td>1.367961e+09</td>\n",
       "      <td>-4.557774e+10</td>\n",
       "      <td>1.518559e+12</td>\n",
       "    </tr>\n",
       "    <tr>\n",
       "      <th>1</th>\n",
       "      <td>-37.912164</td>\n",
       "      <td>1437.332181</td>\n",
       "      <td>-54492.373421</td>\n",
       "      <td>2.065924e+06</td>\n",
       "      <td>-7.832364e+07</td>\n",
       "      <td>2.969419e+09</td>\n",
       "      <td>-1.125771e+11</td>\n",
       "      <td>4.268041e+12</td>\n",
       "    </tr>\n",
       "    <tr>\n",
       "      <th>2</th>\n",
       "      <td>-51.206938</td>\n",
       "      <td>2622.150494</td>\n",
       "      <td>-134272.297639</td>\n",
       "      <td>6.875673e+06</td>\n",
       "      <td>-3.520822e+08</td>\n",
       "      <td>1.802905e+10</td>\n",
       "      <td>-9.232124e+11</td>\n",
       "      <td>4.727488e+13</td>\n",
       "    </tr>\n",
       "  </tbody>\n",
       "</table>\n",
       "</div>"
      ],
      "text/plain": [
       "           0            1              2             3             4  \\\n",
       "0 -33.318004  1110.089390  -36985.962723  1.232298e+06 -4.105772e+07   \n",
       "1 -37.912164  1437.332181  -54492.373421  2.065924e+06 -7.832364e+07   \n",
       "2 -51.206938  2622.150494 -134272.297639  6.875673e+06 -3.520822e+08   \n",
       "\n",
       "              5             6             7  \n",
       "0  1.367961e+09 -4.557774e+10  1.518559e+12  \n",
       "1  2.969419e+09 -1.125771e+11  4.268041e+12  \n",
       "2  1.802905e+10 -9.232124e+11  4.727488e+13  "
      ]
     },
     "execution_count": 15,
     "metadata": {},
     "output_type": "execute_result"
    }
   ],
   "source": [
    "xtest_poly = poly_features(xtest,p)\n",
    "xtest_poly_df = pd.DataFrame(xtest_poly,columns=None)\n",
    "xtest_poly_df.head(3)"
   ]
  },
  {
   "cell_type": "markdown",
   "metadata": {},
   "source": [
    "## 2.B Normalize Features\n",
    "It turns out that if we run the training directly on the projected data, will not work well as the **features** would be **badly scaled** (e.g., an example with **x = 40 will now have a feature x<sub>8</sub> = 40<sup>8</sup> = 6.5 × 10<sup>12</sup>**). <br>\n",
    "Therefore, you will need to use **feature normalization**.\n",
    "`feature_normalize(x)` returns a **normalized version** of `x` where the **mean value of each feature is 0** and the **standard deviation is 1**. This is often a **good preprocessing step** to do when working with learning algorithms."
   ]
  },
  {
   "cell_type": "code",
   "execution_count": 16,
   "metadata": {},
   "outputs": [],
   "source": [
    "def feature_normalize(x, xtest, xval):\n",
    "    sigma = x.std()\n",
    "    mean = x.mean()\n",
    "    x_norm = (x-mean)/sigma\n",
    "    xtest_norm = (xtest-mean)/sigma\n",
    "    xval_norm = (xval-mean)/sigma\n",
    "    return (x_norm, xtest_norm, xval_norm)"
   ]
  },
  {
   "cell_type": "code",
   "execution_count": 17,
   "metadata": {},
   "outputs": [],
   "source": [
    "x_poly_norm, xtest_poly_norm, xval_poly_norm = feature_normalize(x_poly,xtest_poly, xval_poly)"
   ]
  },
  {
   "cell_type": "code",
   "execution_count": 18,
   "metadata": {},
   "outputs": [
    {
     "name": "stdout",
     "output_type": "stream",
     "text": [
      "x_poly_norm : mean= -1.850371707708594e-17, std=0.9999999999999999.\n",
      "xval_poly_norm : mean= 0.044848630228004685, std=1.2247731967735336.\n",
      "xtest_poly_norm : mean= 0.1606768875137592, std=2.5245490041714636.\n"
     ]
    }
   ],
   "source": [
    "print('x_poly_norm : mean= {}, std={}.'.format(x_poly_norm.mean(),x_poly_norm.std()))\n",
    "print('xval_poly_norm : mean= {}, std={}.'.format(xval_poly_norm.mean(),xval_poly_norm.std()))\n",
    "print('xtest_poly_norm : mean= {}, std={}.'.format(xtest_poly_norm.mean(),xtest_poly_norm.std()))"
   ]
  },
  {
   "cell_type": "markdown",
   "metadata": {},
   "source": [
    "Look at this [link](https://stackoverflow.com/questions/40405803/mean-of-data-scaled-with-sklearn-standardscaler-is-not-zero) if you have any question why after using **scaling**, we still do not have **mean = 0** and **std = 1**.<br>\n",
    "Actually the values are zero."
   ]
  },
  {
   "cell_type": "code",
   "execution_count": 20,
   "metadata": {},
   "outputs": [],
   "source": [
    "# add 1's to the features of x as bias\n",
    "x_poly_norm = np.append(np.ones(shape=(m,1)),x_poly_norm,axis = 1)\n",
    "xval_poly_norm = np.append(np.ones(shape=(xval_poly_norm.shape[0],1)),xval_poly_norm,axis = 1)\n",
    "xtest_poly_norm = np.append(np.ones(shape=(xtest_poly_norm.shape[0],1)),xtest_poly_norm,axis = 1)"
   ]
  },
  {
   "cell_type": "markdown",
   "metadata": {},
   "source": [
    "# 3. Learning Polynomial Regression\n",
    "We will proceed to **train polynomial regression using your linear regression cost function**.<br><br>\n",
    "Keep in mind that even though **we have polynomial terms** in our feature vector, we are **still solving a linear regression** optimization problem. The **polynomial terms have simply turned into features** that we can use for linear regression. We are using the **same cost function and gradient** that you wrote for the earlier part of this exercise.<br>"
   ]
  },
  {
   "cell_type": "markdown",
   "metadata": {},
   "source": [
    "## 3.A Regularized Linear Regression Cost Function\n",
    "Recall that regularized linear regression has the following cost function:<img src='img/rlrc.jpg'><br><br>\n",
    "where `lambda` is a regularization parameter which controls the degree of regularization (thus, **help preventing overfitting**). The **regularization** term puts a **penalty** on the overal **cost J**.<br><br>\n",
    "As the magnitudes of the model parameters **θ<sub>j</sub>**\n",
    "increase, the penalty increases as well. Note that you should not regularize the **θ<sub>0</sub>** term.<br><br>\n",
    "For this part of the exercise, you will be using a **polynomial of degree 8**.<br>\n",
    "After learning the parameters **θ**, you should draw two plots generated for polynomial regression with **λ = 0**.<br>"
   ]
  },
  {
   "cell_type": "markdown",
   "metadata": {},
   "source": [
    "### Implementation\n",
    "`linear_reg_cost(x, y, theta, lambda_)` computes the cost of using `theta` as the parameter for linear regression to fit the data points in `x` and `y`. Returns the cost in `j` as cost."
   ]
  },
  {
   "cell_type": "code",
   "execution_count": 22,
   "metadata": {},
   "outputs": [],
   "source": [
    "def hypothesis(x,theta):\n",
    "    return np.dot(x,theta)"
   ]
  },
  {
   "cell_type": "code",
   "execution_count": 23,
   "metadata": {},
   "outputs": [],
   "source": [
    "def linear_reg_cost(theta_flatten, x_flatten, y, lambda_, num_of_samples, num_of_features):\n",
    "    x = x_flatten.reshape(num_of_samples, num_of_features)\n",
    "    theta = theta_flatten.reshape(n,1)\n",
    "    loss = hypothesis(x,theta)-y\n",
    "    regularizer = lambda_*np.sum(theta[1:,:]**2)/(2*m)\n",
    "    j = np.sum(loss ** 2)/(2*m) \n",
    "    return j"
   ]
  },
  {
   "cell_type": "markdown",
   "metadata": {},
   "source": [
    "## 3.B Regularized Linear Regression Gradient\n",
    "Correspondingly, the **partial derivative of regularized linear regression’s cost for θ<sub>j</sub>** is defined as:<img src='img/rlrg.jpg'>"
   ]
  },
  {
   "cell_type": "markdown",
   "metadata": {},
   "source": [
    "### Implementation\n",
    "`linear_reg_grad(x, y, theta, lambda_)` computes the gradient of cost of using `theta` as the parameter for linear regression to fit the data points in `x` and `y`. Returns the gradient in `grad`."
   ]
  },
  {
   "cell_type": "code",
   "execution_count": 24,
   "metadata": {},
   "outputs": [],
   "source": [
    "def linear_reg_grad(theta_flatten, x_flatten, y, lambda_, num_of_samples, num_of_features):\n",
    "    x = x_flatten.reshape(num_of_samples, num_of_features)\n",
    "    m,n = x.shape\n",
    "    theta = theta_flatten.reshape(n,1)\n",
    "    new_theta = np.zeros(shape=(theta.shape))\n",
    "    loss = hypothesis(x,theta)-y\n",
    "    gradient = np.dot(x.T,loss)\n",
    "    new_theta[0:,:] = gradient/m\n",
    "    new_theta[1:,:] = gradient[1:,:]/m + lambda_*(theta[1:,]/m)\n",
    "    return new_theta.flatten()"
   ]
  },
  {
   "cell_type": "markdown",
   "metadata": {},
   "source": [
    "## 3.C Fitting Linear Regression\n",
    "Once your cost function and gradient are working correctly, the next part is to **compute the optimal values** of **θ**.<br>\n",
    "This training function uses `fmin_cg` to optimize the cost function. <a href='https://docs.scipy.org/doc/scipy-0.19.0/reference/generated/scipy.optimize.fmin_cg.html'>See official doc</a><br>"
   ]
  },
  {
   "cell_type": "markdown",
   "metadata": {},
   "source": [
    "### Implementation\n",
    "Once you have implemented the cost and gradient correctly, the `fmin_cg` function will use your cost function to train regularized linear regression and update theta each time."
   ]
  },
  {
   "cell_type": "code",
   "execution_count": 28,
   "metadata": {},
   "outputs": [
    {
     "name": "stdout",
     "output_type": "stream",
     "text": [
      "Optimization terminated successfully.\n",
      "         Current function value: 15.795185\n",
      "         Iterations: 198\n",
      "         Function evaluations: 454\n",
      "         Gradient evaluations: 454\n"
     ]
    }
   ],
   "source": [
    "m,n = x_poly_norm.shape\n",
    "lambda_ = 0\n",
    "theta = np.ones(n)\n",
    "\n",
    "from scipy.optimize import fmin_cg\n",
    "new_theta = fmin_cg(f=linear_reg_cost, x0=theta, fprime=linear_reg_grad, args=(x_poly_norm.flatten(), y, lambda_, m,n))"
   ]
  },
  {
   "cell_type": "code",
   "execution_count": 31,
   "metadata": {},
   "outputs": [
    {
     "data": {
      "text/plain": [
       "array([  286.25746025,   -46.25445386,   -46.25037961,   -45.57463053,\n",
       "         -44.4634646 ,   229.73026807,  1062.20194521,   561.40028703,\n",
       "          10.76226527])"
      ]
     },
     "execution_count": 31,
     "metadata": {},
     "output_type": "execute_result"
    }
   ],
   "source": [
    "new_theta"
   ]
  },
  {
   "cell_type": "markdown",
   "metadata": {},
   "source": [
    "## 3.D Visualization of Fitted Model\n",
    "Finally, you should also **plot the best fit line**. The best fit line tells us that the model is a good fit to the data because the **data has a non-linear pattern**. While **visualizing the best fit** as shown is **one possible way to debug** your learning algorithm, it is not always easy to visualize the data and model.<br><br>\n",
    "In the next section, you will implement a function to **generate learning curves** that can help you debug your learning algorithm even if it is **not easy to visualize** the data."
   ]
  },
  {
   "cell_type": "code",
   "execution_count": 43,
   "metadata": {},
   "outputs": [
    {
     "data": {
      "image/png": "[encoded data removed]",
      "text/plain": [
       "<Figure size 432x288 with 1 Axes>"
      ]
     },
     "metadata": {},
     "output_type": "display_data"
    }
   ],
   "source": [
    "# import libraries\n",
    "import matplotlib.pyplot as plt\n",
    "%matplotlib inline\n",
    "\n",
    "plt.scatter(x, y, color='red', marker='x', label= 'train data')\n",
    "plt.plot(x.flatten(),np.dot(x_poly_norm,new_theta.reshape(n,1).flatten()), label = 'best fit model')\n",
    "#plt.axis([-40,50,-75,75])\n",
    "plt.title('Training Set')\n",
    "plt.xlabel('Change in water level (x)')\n",
    "plt.ylabel('Water flowing out of the dam (y)')\n",
    "plt.grid()\n",
    "plt.legend()\n",
    "plt.show()"
   ]
  }
 ],
 "metadata": {
  "kernelspec": {
   "display_name": "Python 3",
   "language": "python",
   "name": "python3"
  },
  "language_info": {
   "codemirror_mode": {
    "name": "ipython",
    "version": 3
   },
   "file_extension": ".py",
   "mimetype": "text/x-python",
   "name": "python",
   "nbconvert_exporter": "python",
   "pygments_lexer": "ipython3",
   "version": "3.6.6"
  }
 },
 "nbformat": 4,
 "nbformat_minor": 2
}
