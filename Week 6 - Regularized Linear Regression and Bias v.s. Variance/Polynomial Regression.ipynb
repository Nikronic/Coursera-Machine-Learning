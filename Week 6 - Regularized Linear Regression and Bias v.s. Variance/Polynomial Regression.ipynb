{
 "cells": [
  {
   "cell_type": "markdown",
   "metadata": {},
   "source": [
    "# Polynomial Regression\n",
    "The problem with our linear model was that it was too simple for the data and resulted in underfitting (high bias). In this part of the exercise, you will address this problem by adding more features.<br><br>\n",
    "\n",
    "The file <strong><em>ex5data1</em></strong> contains a data set which includes train set, test set, validation set.<br>\n",
    "The structure of the dataset described blow:<br>\n",
    "1. x = **Water level (a single feature)**\n",
    "2. y = **Value of flowed water**\n",
    "3. xval = **x validation set**\n",
    "4. yval = **y validation set**\n",
    "5. xtest = **x test set**\n",
    "6. ytest = **y test set**\n",
    "\n",
    "\n",
    "<br><br>\n",
    "<strong>\n",
    "Our assignment has these sections:\n",
    "1. Visualizing the Data\n",
    "    1. Converting .mat to .csv\n",
    "    2. Loading Dataset\n",
    "    3. Visualizing The Dataset\n",
    "2. Adding Polynomial Features\n",
    "3. Learning Polynomial Regression\n",
    "    1. Implementation\n",
    "    2. Test Cost Function\n",
    "4. Adjusting The Regularization Parameter\n",
    "    1. Implementation\n",
    "    2. Test Gradient Function\n",
    "5. Selecting λ Using a Cross Validation Set\n",
    "    1. Implementation\n",
    "    2. Visualziation of Fitted Model\n",
    "6. Computing Test Set Error\n",
    "    1. Learning Curves\n",
    "    2. \n",
    "7. Plotting Learning Curves With Randomly Selected Examples\n",
    "    \n",
    "</strong>\n",
    "\n",
    "In each section full description provided."
   ]
  },
  {
   "cell_type": "markdown",
   "metadata": {},
   "source": [
    "## 1. Visualizing the Dataset\n",
    "Before starting on any task, it is often useful to understand the data by visualizing it.<br>"
   ]
  },
  {
   "cell_type": "markdown",
   "metadata": {},
   "source": [
    "### 1.A Converting .mat to .csv\n",
    "In this specific assignment, the instructor added a .mat file as training set and weights of trained neural network. But we have to convert it to .csv to use in python.<br>\n",
    "After all we now ready to import our new csv files to pandas dataframes and do preprocessing on it and make it ready for next steps."
   ]
  },
  {
   "cell_type": "code",
   "execution_count": 1,
   "metadata": {},
   "outputs": [],
   "source": [
    "# import libraries\n",
    "import scipy.io\n",
    "import numpy as np\n",
    "\n",
    "data = scipy.io.loadmat(\"ex5data1\")"
   ]
  },
  {
   "cell_type": "markdown",
   "metadata": {},
   "source": [
    "Now we **extract** `x`, `y`, `xval`, `yval`, `xtest` and `ytest`</strong> variables from the .mat file and save them into .csv file for further usage. After running the below code you should see:\n",
    "1. X.csv\n",
    "2. y.csv \n",
    "3. Xtest.csv\n",
    "4. ytest.csv\n",
    "5. Xval.csv\n",
    "6. yval.csv\n",
    "\n",
    "files in your directory."
   ]
  },
  {
   "cell_type": "code",
   "execution_count": 2,
   "metadata": {},
   "outputs": [],
   "source": [
    "for i in data:\n",
    "    if '__' not in i and 'readme' not in i:\n",
    "        np.savetxt((i+\".csv\"),data[i],delimiter=',')"
   ]
  },
  {
   "cell_type": "markdown",
   "metadata": {},
   "source": [
    "### 1.B Loading Dataset\n",
    "First we import .csv files into pandas dataframes then save them into numpy arrays.<br><br>"
   ]
  },
  {
   "cell_type": "code",
   "execution_count": 3,
   "metadata": {},
   "outputs": [],
   "source": [
    "# import library\n",
    "import pandas as pd\n",
    "\n",
    "# saving .csv files to pandas dataframes\n",
    "x_df = pd.read_csv('X.csv',names= ['x'])\n",
    "xtest_df = pd.read_csv('Xtest.csv',names= ['xtest'])\n",
    "xval_df = pd.read_csv('Xval.csv',names= ['xval'])\n",
    "y_df = pd.read_csv('y.csv',names=['y'])\n",
    "ytest_df = pd.read_csv('ytest.csv',names= ['ytest'])\n",
    "yval_df = pd.read_csv('yval.csv',names= ['yval'])"
   ]
  },
  {
   "cell_type": "code",
   "execution_count": 14,
   "metadata": {},
   "outputs": [
    {
     "data": {
      "text/html": [
       "<div>\n",
       "<style scoped>\n",
       "    .dataframe tbody tr th:only-of-type {\n",
       "        vertical-align: middle;\n",
       "    }\n",
       "\n",
       "    .dataframe tbody tr th {\n",
       "        vertical-align: top;\n",
       "    }\n",
       "\n",
       "    .dataframe thead th {\n",
       "        text-align: right;\n",
       "    }\n",
       "</style>\n",
       "<table border=\"1\" class=\"dataframe\">\n",
       "  <thead>\n",
       "    <tr style=\"text-align: right;\">\n",
       "      <th></th>\n",
       "      <th>x</th>\n",
       "    </tr>\n",
       "  </thead>\n",
       "  <tbody>\n",
       "    <tr>\n",
       "      <th>0</th>\n",
       "      <td>-15.936758</td>\n",
       "    </tr>\n",
       "    <tr>\n",
       "      <th>1</th>\n",
       "      <td>-29.152979</td>\n",
       "    </tr>\n",
       "    <tr>\n",
       "      <th>2</th>\n",
       "      <td>36.189549</td>\n",
       "    </tr>\n",
       "  </tbody>\n",
       "</table>\n",
       "</div>"
      ],
      "text/plain": [
       "           x\n",
       "0 -15.936758\n",
       "1 -29.152979\n",
       "2  36.189549"
      ]
     },
     "execution_count": 14,
     "metadata": {},
     "output_type": "execute_result"
    }
   ],
   "source": [
    "x_df.head(3)"
   ]
  },
  {
   "cell_type": "code",
   "execution_count": 5,
   "metadata": {},
   "outputs": [
    {
     "data": {
      "text/html": [
       "<div>\n",
       "<style scoped>\n",
       "    .dataframe tbody tr th:only-of-type {\n",
       "        vertical-align: middle;\n",
       "    }\n",
       "\n",
       "    .dataframe tbody tr th {\n",
       "        vertical-align: top;\n",
       "    }\n",
       "\n",
       "    .dataframe thead th {\n",
       "        text-align: right;\n",
       "    }\n",
       "</style>\n",
       "<table border=\"1\" class=\"dataframe\">\n",
       "  <thead>\n",
       "    <tr style=\"text-align: right;\">\n",
       "      <th></th>\n",
       "      <th>y</th>\n",
       "    </tr>\n",
       "  </thead>\n",
       "  <tbody>\n",
       "    <tr>\n",
       "      <th>0</th>\n",
       "      <td>2.134311</td>\n",
       "    </tr>\n",
       "    <tr>\n",
       "      <th>1</th>\n",
       "      <td>1.173257</td>\n",
       "    </tr>\n",
       "    <tr>\n",
       "      <th>2</th>\n",
       "      <td>34.359109</td>\n",
       "    </tr>\n",
       "  </tbody>\n",
       "</table>\n",
       "</div>"
      ],
      "text/plain": [
       "           y\n",
       "0   2.134311\n",
       "1   1.173257\n",
       "2  34.359109"
      ]
     },
     "execution_count": 5,
     "metadata": {},
     "output_type": "execute_result"
    }
   ],
   "source": [
    "y_df.head(3)"
   ]
  },
  {
   "cell_type": "markdown",
   "metadata": {},
   "source": [
    "Now we convert all **pandas dataframes** to **numpy arrays** for calculations."
   ]
  },
  {
   "cell_type": "code",
   "execution_count": 6,
   "metadata": {},
   "outputs": [
    {
     "name": "stdout",
     "output_type": "stream",
     "text": [
      "#12 Number of training samples, #1 features per sample\n",
      "#21 Number of validation samples, #1 features per sample\n",
      "#21 Number of test samples, #1 features per sample\n"
     ]
    }
   ],
   "source": [
    "# saving x, y, xval, yval, xtest and ytest into numpy arrays\n",
    "x = x_df.iloc[:,:].values\n",
    "xval = xval_df.iloc[:,:].values\n",
    "xtest = xtest_df.iloc[:,:].values\n",
    "\n",
    "y = y_df.iloc[:,:].values\n",
    "yval = yval_df.iloc[:,:].values\n",
    "ytest = ytest_df.iloc[:,:].values\n",
    "\n",
    "# number of examples and number of features\n",
    "m, n = x.shape\n",
    "\n",
    "# add 1's to the features of x as bias\n",
    "x = np.append(np.ones(shape=(m,1)),x,axis = 1)\n",
    "xval = np.append(np.ones(shape=(xval.shape[0],1)),xval,axis = 1)\n",
    "xtest = np.append(np.ones(shape=(xtest.shape[0],1)),xtest,axis = 1)\n",
    "\n",
    "\n",
    "\n",
    "m_val = xval.shape[0]\n",
    "m_test = xtest.shape[0]\n",
    "\n",
    "print('#{} Number of training samples, #{} features per sample'.format(m,n))\n",
    "print('#{} Number of validation samples, #{} features per sample'.format(m_val,n))\n",
    "print('#{} Number of test samples, #{} features per sample'.format(m_test,n))"
   ]
  },
  {
   "cell_type": "code",
   "execution_count": 7,
   "metadata": {},
   "outputs": [],
   "source": [
    "# define some hypter parameters\n",
    "\n",
    "# define theta as zero\n",
    "theta = None\n",
    "\n",
    "# define hyperparameter λ\n",
    "lambda_ = None\n",
    "\n",
    "# reshape (-1,1) because we just have one feature in y column\n",
    "y = y.reshape(-1,1)"
   ]
  },
  {
   "cell_type": "markdown",
   "metadata": {},
   "source": [
    "### 1.C Ploting Dataset\n",
    "We will begin by visualizing the dataset containing historical records on **the change in the water level**, `x`, and **the amount of water flowing out of the dam**, `y`.<br><br>\n",
    "This dataset is divided into three parts:<br>\n",
    "    • A **training set** that your model will learn on: `x`, `y`<br>\n",
    "    • A **cross validation set** for determining the regularization parameter: `xval`, `yval`<br>\n",
    "    • A **test set** for evaluating performance. These are **\"unseen\" examples** which your model did not see during training: `xtest`, `ytest`<br>"
   ]
  },
  {
   "cell_type": "code",
   "execution_count": 8,
   "metadata": {},
   "outputs": [
    {
     "data": {
      "image/png": "[encoded data removed]",
      "text/plain": [
       "<Figure size 432x288 with 1 Axes>"
      ]
     },
     "metadata": {},
     "output_type": "display_data"
    }
   ],
   "source": [
    "# import libraries\n",
    "import matplotlib.pyplot as plt\n",
    "%matplotlib inline\n",
    "\n",
    "plt.scatter(x[:,1], y, color='red', marker='x')\n",
    "plt.title('Training Set')\n",
    "plt.xlabel('Change in water level (x)')\n",
    "plt.ylabel('Water flowing out of the dam (y)')\n",
    "plt.grid()\n",
    "plt.show()"
   ]
  },
  {
   "cell_type": "markdown",
   "metadata": {},
   "source": [
    "# 2. Adding Polynomial Features\n",
    "\n",
    "For use polynomial regression, our hypothesis has the form:<img src='img/poly.jpg'>\n",
    "Notice that by defining `x1 = (waterLevel)`, `x2 = (waterLevel)`<sup>2</sup>, ... , `xp = (waterLevel)`<sup>p</sup>, we obtain a linear regression model where the features are the various powers of the original value (waterLevel).<br><br>\n",
    "Now, you will **add more features using the higher powers** of the existing feature `x` in the dataset. Your task write a function so that the function **maps the original training set `x` of size `m × 1` into its higher powers**. Specifically, when a training set `x` of size `m × 1` is passed into the function, the **function should return a `m × p` matrix `x_poly`**, where column `1` holds the original values of `x`, column `2` holds the values of `x^2`, column `3` holds the values of `x^3`, and so on.<br> \n",
    "Note that **you don’t have to account for the zero-eth power in this function**."
   ]
  },
  {
   "cell_type": "markdown",
   "metadata": {},
   "source": [
    "## 2.A Adding Features\n",
    "`poly_features(x, p)` takes a data matrix `x` (size `m x 1`) and **maps each example into its polynomial features** where <br>\n",
    "`x_poly[i, :] = [x(i) x(i)^2 x(i)^3 ...  x(i)^p]`"
   ]
  },
  {
   "cell_type": "code",
   "execution_count": 39,
   "metadata": {},
   "outputs": [],
   "source": [
    "x_poly = None # the output of polu_features\n",
    "p = 8 # order of polynomial features\n",
    "\n",
    "from sklearn.preprocessing import PolynomialFeatures # import libraries\n",
    "def poly_features(x,p):    \n",
    "    polynomial_features = PolynomialFeatures(degree=8, include_bias=True)\n",
    "    x_poly = polynomial_features.fit_transform(x)\n",
    "    return x_poly\n",
    "    "
   ]
  },
  {
   "cell_type": "code",
   "execution_count": 43,
   "metadata": {},
   "outputs": [
    {
     "data": {
      "text/html": [
       "<div>\n",
       "<style scoped>\n",
       "    .dataframe tbody tr th:only-of-type {\n",
       "        vertical-align: middle;\n",
       "    }\n",
       "\n",
       "    .dataframe tbody tr th {\n",
       "        vertical-align: top;\n",
       "    }\n",
       "\n",
       "    .dataframe thead th {\n",
       "        text-align: right;\n",
       "    }\n",
       "</style>\n",
       "<table border=\"1\" class=\"dataframe\">\n",
       "  <thead>\n",
       "    <tr style=\"text-align: right;\">\n",
       "      <th></th>\n",
       "      <th>0</th>\n",
       "      <th>1</th>\n",
       "      <th>2</th>\n",
       "      <th>3</th>\n",
       "      <th>4</th>\n",
       "      <th>5</th>\n",
       "      <th>6</th>\n",
       "      <th>7</th>\n",
       "      <th>8</th>\n",
       "    </tr>\n",
       "  </thead>\n",
       "  <tbody>\n",
       "    <tr>\n",
       "      <th>0</th>\n",
       "      <td>1.0</td>\n",
       "      <td>-15.936758</td>\n",
       "      <td>253.980260</td>\n",
       "      <td>-4047.621971</td>\n",
       "      <td>6.450597e+04</td>\n",
       "      <td>-1.028016e+06</td>\n",
       "      <td>1.638324e+07</td>\n",
       "      <td>-2.610958e+08</td>\n",
       "      <td>4.161020e+09</td>\n",
       "    </tr>\n",
       "    <tr>\n",
       "      <th>1</th>\n",
       "      <td>1.0</td>\n",
       "      <td>-29.152979</td>\n",
       "      <td>849.896197</td>\n",
       "      <td>-24777.006175</td>\n",
       "      <td>7.223235e+05</td>\n",
       "      <td>-2.105788e+07</td>\n",
       "      <td>6.139000e+08</td>\n",
       "      <td>-1.789701e+10</td>\n",
       "      <td>5.217513e+11</td>\n",
       "    </tr>\n",
       "    <tr>\n",
       "      <th>2</th>\n",
       "      <td>1.0</td>\n",
       "      <td>36.189549</td>\n",
       "      <td>1309.683430</td>\n",
       "      <td>47396.852168</td>\n",
       "      <td>1.715271e+06</td>\n",
       "      <td>6.207487e+07</td>\n",
       "      <td>2.246462e+09</td>\n",
       "      <td>8.129843e+10</td>\n",
       "      <td>2.942154e+12</td>\n",
       "    </tr>\n",
       "  </tbody>\n",
       "</table>\n",
       "</div>"
      ],
      "text/plain": [
       "     0          1            2             3             4             5  \\\n",
       "0  1.0 -15.936758   253.980260  -4047.621971  6.450597e+04 -1.028016e+06   \n",
       "1  1.0 -29.152979   849.896197 -24777.006175  7.223235e+05 -2.105788e+07   \n",
       "2  1.0  36.189549  1309.683430  47396.852168  1.715271e+06  6.207487e+07   \n",
       "\n",
       "              6             7             8  \n",
       "0  1.638324e+07 -2.610958e+08  4.161020e+09  \n",
       "1  6.139000e+08 -1.789701e+10  5.217513e+11  \n",
       "2  2.246462e+09  8.129843e+10  2.942154e+12  "
      ]
     },
     "execution_count": 43,
     "metadata": {},
     "output_type": "execute_result"
    }
   ],
   "source": [
    "x_poly = poly_features(x[:,1:],p)\n",
    "x_poly_df = pd.DataFrame(x_poly,columns=None)\n",
    "x_poly_df.head(3)"
   ]
  },
  {
   "cell_type": "markdown",
   "metadata": {},
   "source": [
    "#### Now we add these features to `xtest` and `xval`"
   ]
  },
  {
   "cell_type": "code",
   "execution_count": 51,
   "metadata": {},
   "outputs": [
    {
     "data": {
      "text/html": [
       "<div>\n",
       "<style scoped>\n",
       "    .dataframe tbody tr th:only-of-type {\n",
       "        vertical-align: middle;\n",
       "    }\n",
       "\n",
       "    .dataframe tbody tr th {\n",
       "        vertical-align: top;\n",
       "    }\n",
       "\n",
       "    .dataframe thead th {\n",
       "        text-align: right;\n",
       "    }\n",
       "</style>\n",
       "<table border=\"1\" class=\"dataframe\">\n",
       "  <thead>\n",
       "    <tr style=\"text-align: right;\">\n",
       "      <th></th>\n",
       "      <th>0</th>\n",
       "      <th>1</th>\n",
       "      <th>2</th>\n",
       "      <th>3</th>\n",
       "      <th>4</th>\n",
       "      <th>5</th>\n",
       "      <th>6</th>\n",
       "      <th>7</th>\n",
       "      <th>8</th>\n",
       "    </tr>\n",
       "  </thead>\n",
       "  <tbody>\n",
       "    <tr>\n",
       "      <th>0</th>\n",
       "      <td>1.0</td>\n",
       "      <td>-16.746536</td>\n",
       "      <td>280.446461</td>\n",
       "      <td>-4696.506686</td>\n",
       "      <td>7.865022e+04</td>\n",
       "      <td>-1.317119e+06</td>\n",
       "      <td>2.205718e+07</td>\n",
       "      <td>-3.693813e+08</td>\n",
       "      <td>6.185857e+09</td>\n",
       "    </tr>\n",
       "    <tr>\n",
       "      <th>1</th>\n",
       "      <td>1.0</td>\n",
       "      <td>-14.577471</td>\n",
       "      <td>212.502653</td>\n",
       "      <td>-3097.751215</td>\n",
       "      <td>4.515738e+04</td>\n",
       "      <td>-6.582804e+05</td>\n",
       "      <td>9.596063e+06</td>\n",
       "      <td>-1.398863e+08</td>\n",
       "      <td>2.039189e+09</td>\n",
       "    </tr>\n",
       "    <tr>\n",
       "      <th>2</th>\n",
       "      <td>1.0</td>\n",
       "      <td>34.515759</td>\n",
       "      <td>1191.337596</td>\n",
       "      <td>41119.920932</td>\n",
       "      <td>1.419285e+06</td>\n",
       "      <td>4.898771e+07</td>\n",
       "      <td>1.690848e+09</td>\n",
       "      <td>5.836090e+10</td>\n",
       "      <td>2.014371e+12</td>\n",
       "    </tr>\n",
       "  </tbody>\n",
       "</table>\n",
       "</div>"
      ],
      "text/plain": [
       "     0          1            2             3             4             5  \\\n",
       "0  1.0 -16.746536   280.446461  -4696.506686  7.865022e+04 -1.317119e+06   \n",
       "1  1.0 -14.577471   212.502653  -3097.751215  4.515738e+04 -6.582804e+05   \n",
       "2  1.0  34.515759  1191.337596  41119.920932  1.419285e+06  4.898771e+07   \n",
       "\n",
       "              6             7             8  \n",
       "0  2.205718e+07 -3.693813e+08  6.185857e+09  \n",
       "1  9.596063e+06 -1.398863e+08  2.039189e+09  \n",
       "2  1.690848e+09  5.836090e+10  2.014371e+12  "
      ]
     },
     "execution_count": 51,
     "metadata": {},
     "output_type": "execute_result"
    }
   ],
   "source": [
    "xval_poly = poly_features(xval[:,1:],p)\n",
    "xval_poly_df = pd.DataFrame(xval_poly,columns=None)\n",
    "xval_poly_df.head(3)"
   ]
  },
  {
   "cell_type": "code",
   "execution_count": 45,
   "metadata": {},
   "outputs": [
    {
     "data": {
      "text/html": [
       "<div>\n",
       "<style scoped>\n",
       "    .dataframe tbody tr th:only-of-type {\n",
       "        vertical-align: middle;\n",
       "    }\n",
       "\n",
       "    .dataframe tbody tr th {\n",
       "        vertical-align: top;\n",
       "    }\n",
       "\n",
       "    .dataframe thead th {\n",
       "        text-align: right;\n",
       "    }\n",
       "</style>\n",
       "<table border=\"1\" class=\"dataframe\">\n",
       "  <thead>\n",
       "    <tr style=\"text-align: right;\">\n",
       "      <th></th>\n",
       "      <th>0</th>\n",
       "      <th>1</th>\n",
       "      <th>2</th>\n",
       "      <th>3</th>\n",
       "      <th>4</th>\n",
       "      <th>5</th>\n",
       "      <th>6</th>\n",
       "      <th>7</th>\n",
       "      <th>8</th>\n",
       "    </tr>\n",
       "  </thead>\n",
       "  <tbody>\n",
       "    <tr>\n",
       "      <th>0</th>\n",
       "      <td>1.0</td>\n",
       "      <td>-33.318004</td>\n",
       "      <td>1110.089390</td>\n",
       "      <td>-36985.962723</td>\n",
       "      <td>1.232298e+06</td>\n",
       "      <td>-4.105772e+07</td>\n",
       "      <td>1.367961e+09</td>\n",
       "      <td>-4.557774e+10</td>\n",
       "      <td>1.518559e+12</td>\n",
       "    </tr>\n",
       "    <tr>\n",
       "      <th>1</th>\n",
       "      <td>1.0</td>\n",
       "      <td>-37.912164</td>\n",
       "      <td>1437.332181</td>\n",
       "      <td>-54492.373421</td>\n",
       "      <td>2.065924e+06</td>\n",
       "      <td>-7.832364e+07</td>\n",
       "      <td>2.969419e+09</td>\n",
       "      <td>-1.125771e+11</td>\n",
       "      <td>4.268041e+12</td>\n",
       "    </tr>\n",
       "    <tr>\n",
       "      <th>2</th>\n",
       "      <td>1.0</td>\n",
       "      <td>-51.206938</td>\n",
       "      <td>2622.150494</td>\n",
       "      <td>-134272.297639</td>\n",
       "      <td>6.875673e+06</td>\n",
       "      <td>-3.520822e+08</td>\n",
       "      <td>1.802905e+10</td>\n",
       "      <td>-9.232124e+11</td>\n",
       "      <td>4.727488e+13</td>\n",
       "    </tr>\n",
       "  </tbody>\n",
       "</table>\n",
       "</div>"
      ],
      "text/plain": [
       "     0          1            2              3             4             5  \\\n",
       "0  1.0 -33.318004  1110.089390  -36985.962723  1.232298e+06 -4.105772e+07   \n",
       "1  1.0 -37.912164  1437.332181  -54492.373421  2.065924e+06 -7.832364e+07   \n",
       "2  1.0 -51.206938  2622.150494 -134272.297639  6.875673e+06 -3.520822e+08   \n",
       "\n",
       "              6             7             8  \n",
       "0  1.367961e+09 -4.557774e+10  1.518559e+12  \n",
       "1  2.969419e+09 -1.125771e+11  4.268041e+12  \n",
       "2  1.802905e+10 -9.232124e+11  4.727488e+13  "
      ]
     },
     "execution_count": 45,
     "metadata": {},
     "output_type": "execute_result"
    }
   ],
   "source": [
    "xtest_poly = poly_features(xtest[:,1:],p)\n",
    "xtest_poly_df = pd.DataFrame(xtest_poly,columns=None)\n",
    "xtest_poly_df.head(3)"
   ]
  },
  {
   "cell_type": "markdown",
   "metadata": {},
   "source": [
    "## 2.B Normalize Features\n",
    "`feature_normalize(x)` returns a **normalized version** of `x` where the **mean value of each feature is 0** and the **standard deviation is 1**. This is often a **good preprocessing step** to do when working with learning algorithms."
   ]
  },
  {
   "cell_type": "code",
   "execution_count": 59,
   "metadata": {},
   "outputs": [],
   "source": [
    "def feature_normalize(x, xtest, xval):\n",
    "    sigma = x.std()\n",
    "    mean = x.mean()\n",
    "    x_norm = (x-mean)/sigma\n",
    "    xtest_norm = (xtest-mean)/sigma\n",
    "    xval_norm = (xval-mean)/sigma\n",
    "    return (x_norm, xtest_norm, xval_norm)"
   ]
  },
  {
   "cell_type": "code",
   "execution_count": 61,
   "metadata": {},
   "outputs": [],
   "source": [
    "x_poly_norm, xtest_poly_norm, xval_poly_norm = feature_normalize(x_poly,xtest_poly, xval_poly)"
   ]
  },
  {
   "cell_type": "code",
   "execution_count": 62,
   "metadata": {},
   "outputs": [
    {
     "name": "stdout",
     "output_type": "stream",
     "text": [
      "x_poly_norm : mean= -2.441462669893284e-17, std=1.0.\n",
      "xval_poly_norm : mean= -0.09705854511259113, std=2.292603675587702e-06.\n",
      "xtest_poly_norm : mean= -0.09705834103281052, std=4.722242769115049e-06.\n"
     ]
    }
   ],
   "source": [
    "print('x_poly_norm : mean= {}, std={}.'.format(x_poly_norm.mean(),x_poly_norm.std()))\n",
    "print('xval_poly_norm : mean= {}, std={}.'.format(xval_poly_norm.mean(),xval_poly_norm.std()))\n",
    "print('xtest_poly_norm : mean= {}, std={}.'.format(xtest_poly_norm.mean(),xtest_poly_norm.std()))"
   ]
  },
  {
   "cell_type": "code",
   "execution_count": 54,
   "metadata": {},
   "outputs": [],
   "source": []
  },
  {
   "cell_type": "code",
   "execution_count": 55,
   "metadata": {},
   "outputs": [
    {
     "name": "stderr",
     "output_type": "stream",
     "text": [
      "C:\\Program Files\\Anaconda3\\lib\\site-packages\\sklearn\\preprocessing\\data.py:176: UserWarning: Numerical issues were encountered when centering the data and might not be solved. Dataset may contain too large values. You may need to prescale your features.\n",
      "  warnings.warn(\"Numerical issues were encountered \"\n"
     ]
    }
   ],
   "source": []
  },
  {
   "cell_type": "code",
   "execution_count": null,
   "metadata": {},
   "outputs": [],
   "source": []
  }
 ],
 "metadata": {
  "kernelspec": {
   "display_name": "Python 3",
   "language": "python",
   "name": "python3"
  },
  "language_info": {
   "codemirror_mode": {
    "name": "ipython",
    "version": 3
   },
   "file_extension": ".py",
   "mimetype": "text/x-python",
   "name": "python",
   "nbconvert_exporter": "python",
   "pygments_lexer": "ipython3",
   "version": "3.6.6"
  }
 },
 "nbformat": 4,
 "nbformat_minor": 2
}
