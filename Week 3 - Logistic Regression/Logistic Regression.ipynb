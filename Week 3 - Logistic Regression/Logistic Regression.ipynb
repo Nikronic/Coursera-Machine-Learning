{
 "cells": [
  {
   "cell_type": "markdown",
   "metadata": {},
   "source": [
    "# Logistic Regression\n",
    "In this part of the exercise, we built a logistic regression model to predict whether a student gets admitted into a university. Suppose that you are the administrator of a university department and you want to determine each applicant’s chance of admission based on their results on two exams. You have historical data from previous applicants that you can use as a training set for logistic regression. For each training example, you have the applicant’s scores on two exams and the admissions decision. Our task is to build a classification model that estimates an applicant’s probability of admission based the scores from those two exams.<br>\n",
    "\n",
    "The file <strong><em>ex1data2.csv</em></strong> contains a training set of housing prices in Portland, Oregon.<br>\n",
    "The structure of the dataset described blow:<br>\n",
    "1. First column = <strong>size of the house (in square feet)</strong> \n",
    "2. Second column = <strong>number of bedrooms</strong>\n",
    "3. Third column = <strong>price of the house</strong>\n",
    "\n",
    "A negative value for profit indicates a loss.<br>\n",
    "<br> <br>\n",
    "<strong>\n",
    "Our assignment has these sections:\n",
    "1. Visualizing the Data\n",
    "    1. Loading dataset\n",
    "    2. Ploting scatter\n",
    "2. Implementation\n",
    "    1. Sigmoid Function (Warmup)\n",
    "    2. Cost Function and Gradient\n",
    "    3. Learning Parameters Using <em>fminunc</em>\n",
    "    4. Evaluating logistic regression\n",
    "3. Visualization of Model\n",
    "    1.\n",
    "</strong>\n",
    "\n",
    "In each section full description provided."
   ]
  }
 ],
 "metadata": {
  "kernelspec": {
   "display_name": "Python 3",
   "language": "python",
   "name": "python3"
  },
  "language_info": {
   "codemirror_mode": {
    "name": "ipython",
    "version": 3
   },
   "file_extension": ".py",
   "mimetype": "text/x-python",
   "name": "python",
   "nbconvert_exporter": "python",
   "pygments_lexer": "ipython3",
   "version": "3.6.6"
  }
 },
 "nbformat": 4,
 "nbformat_minor": 2
}
